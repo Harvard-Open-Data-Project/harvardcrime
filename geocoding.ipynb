{
 "cells": [
  {
   "cell_type": "code",
   "execution_count": 18,
   "metadata": {},
   "outputs": [
    {
     "data": {
      "text/plain": [
       "[]"
      ]
     },
     "execution_count": 18,
     "metadata": {},
     "output_type": "execute_result"
    }
   ],
   "source": [
    "import geocoder\n",
    "import csv\n",
    "\n",
    "from importlib import reload\n",
    "import incident\n",
    "reload(incident)\n",
    "from incident import Incident\n",
    "import utils\n",
    "reload(utils)\n",
    "\n",
    "incidents = []\n",
    "\n",
    "with open(\"harvard_crime_incidents.csv\", \"r\") as f:\n",
    "        freader = csv.DictReader(f)\n",
    "        for row in freader:\n",
    "            incidents.append(row)\n",
    "            \n",
    "incidents"
   ]
  },
  {
   "cell_type": "code",
   "execution_count": 19,
   "metadata": {},
   "outputs": [],
   "source": [
    "for row in incidents:\n",
    "    # HUPD only covers stuff in Massachusetts so manually adding the state here\n",
    "    fullAddress = row[\"location\"] + \", \" + row[\"street_address\"] + \", \" + row[\"city\"] + \", \" + \"MA\"\n",
    "    geocoded = geocoder.google(fullAddress)\n",
    "    if geocoded.latlng != None:\n",
    "        # use cached copy if available\n",
    "        print(fullAddress)\n",
    "        print(geocoded.latlng)\n",
    "    else:\n",
    "        shortAddress = row[\"street_address\"] + \", \" + row[\"city\"] + \", \" + \"MA\"\n",
    "        geocoded = geocoder.google(shortAddress)\n",
    "        print(fullAddress)\n",
    "        print(geocoded.latlng)\n",
    "        if(geocoded.latlng == None):\n",
    "            # PROBLEM: sometimes the request just doesn't work so we'll get None,\n",
    "            # even if the address is actually geocode-able!\n",
    "            # We should throttle this\n",
    "            geocoded.latlng = [0,0]\n",
    "    \n",
    "    row[\"latitude\"] = geocoded.latlng[0]\n",
    "    row[\"longitude\"] = geocoded.latlng[1]\n",
    "    \n",
    "    print(\"\")"
   ]
  },
  {
   "cell_type": "code",
   "execution_count": 20,
   "metadata": {
    "scrolled": true
   },
   "outputs": [],
   "source": [
    "utils.dump_csv(incidents)"
   ]
  },
  {
   "cell_type": "code",
   "execution_count": null,
   "metadata": {},
   "outputs": [],
   "source": []
  },
  {
   "cell_type": "code",
   "execution_count": null,
   "metadata": {},
   "outputs": [],
   "source": []
  },
  {
   "cell_type": "code",
   "execution_count": null,
   "metadata": {},
   "outputs": [],
   "source": []
  },
  {
   "cell_type": "code",
   "execution_count": null,
   "metadata": {},
   "outputs": [],
   "source": []
  },
  {
   "cell_type": "code",
   "execution_count": null,
   "metadata": {},
   "outputs": [],
   "source": []
  },
  {
   "cell_type": "code",
   "execution_count": null,
   "metadata": {},
   "outputs": [],
   "source": []
  },
  {
   "cell_type": "code",
   "execution_count": null,
   "metadata": {},
   "outputs": [],
   "source": []
  }
 ],
 "metadata": {
  "kernelspec": {
   "display_name": "crime",
   "language": "python",
   "name": "crime"
  },
  "language_info": {
   "codemirror_mode": {
    "name": "ipython",
    "version": 3
   },
   "file_extension": ".py",
   "mimetype": "text/x-python",
   "name": "python",
   "nbconvert_exporter": "python",
   "pygments_lexer": "ipython3",
   "version": "3.6.4"
  }
 },
 "nbformat": 4,
 "nbformat_minor": 2
}
