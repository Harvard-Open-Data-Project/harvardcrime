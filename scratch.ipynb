{
 "cells": [
  {
   "cell_type": "code",
   "execution_count": 1,
   "metadata": {
    "collapsed": false
   },
   "outputs": [
    {
     "ename": "NameError",
     "evalue": "name 'pdf' is not defined",
     "output_type": "error",
     "traceback": [
      "\u001b[0;31m---------------------------------------------------------------------------\u001b[0m",
      "\u001b[0;31mNameError\u001b[0m                                 Traceback (most recent call last)",
      "\u001b[0;32m<ipython-input-1-3c81d39b21f9>\u001b[0m in \u001b[0;36m<module>\u001b[0;34m()\u001b[0m\n\u001b[1;32m     40\u001b[0m \u001b[0;34m\u001b[0m\u001b[0m\n\u001b[1;32m     41\u001b[0m \u001b[0;31m# get all textual elements\u001b[0m\u001b[0;34m\u001b[0m\u001b[0;34m\u001b[0m\u001b[0m\n\u001b[0;32m---> 42\u001b[0;31m textual_elements = (pdf.tree.findall(\"//LTTextLineHorizontal\") + \n\u001b[0m\u001b[1;32m     43\u001b[0m                     pdf.tree.findall(\".//LTTextBoxHorizontal\"))\n\u001b[1;32m     44\u001b[0m \u001b[0;34m\u001b[0m\u001b[0m\n",
      "\u001b[0;31mNameError\u001b[0m: name 'pdf' is not defined"
     ]
    }
   ],
   "source": [
    "# ALTERNATIVE APPROACH: find a bounding box, then get all the text inside that\n",
    "# In theory, that should do a better job finding all the metadata about\n",
    "# an incident. In practice, it's harder to do.\n",
    "\n",
    "def element_within_box(element, box_coords):\n",
    "    # box_coords must be [x0, y0, x1, y1]\n",
    "    \n",
    "    # get element coords\n",
    "\n",
    "    print element_coords\n",
    "    print box_coords\n",
    "\n",
    "# element_within_box(textual_elements[0], box)\n",
    "\n",
    "class BoundingBox(object):\n",
    "    \n",
    "    def __init__(self, x0, y0, x1, y1):\n",
    "        self.x0 = x0\n",
    "        self.y0 = y0\n",
    "        self.x1 = x1\n",
    "        self.y1 = y1\n",
    "        \n",
    "    def is_inside_box(self, other_box):\n",
    "        \"\"\"\n",
    "        Returns true if this box is entirely contained within the other box.\n",
    "        \"\"\"\n",
    "        FUZZ = 5\n",
    "        return (self.x0 >= other_box.x0 - FUZZ and\n",
    "                self.x1 <= other_box.x1 + FUZZ and\n",
    "                self.y0 >= other_box.y0 - FUZZ and\n",
    "                self.y1 <= other_box.y1 + FUZZ)\n",
    "    \n",
    "    def __str__(self):\n",
    "        return \"({},{}) to ({},{})\".format(self.x0, self.y0, self.x1, self.y1)\n",
    "    \n",
    "        \n",
    "\n",
    "# find everything within this box\n",
    "\n",
    "\n",
    "# get all textual elements\n",
    "textual_elements = (pdf.tree.findall(\"//LTTextLineHorizontal\") + \n",
    "                    pdf.tree.findall(\".//LTTextBoxHorizontal\"))\n",
    "\n",
    "test_elt = textual_elements[0]\n",
    "\n",
    "def box_of_element(element):\n",
    "    coordinate_names = [\"x0\",\"y0\",\"x1\",\"y1\"]\n",
    "    coords = [float(element.get(z)) for z in coordinate_names]\n",
    "    \n",
    "    return BoundingBox(coords[0], coords[1], coords[2], coords[3])\n",
    "\n",
    "str(box_of_element(test_elt))\n",
    "\n",
    "\n",
    "\n",
    "# whats in here\n",
    "test_box = BoundingBox(3.36, 77.7, 754.86, 98.64)\n",
    "\n",
    "# get boxes for all elts\n",
    "\n",
    "def is_in_box(element):\n",
    "    box = box_of_element(element)\n",
    "    return box.is_inside_box(test_box)\n",
    "\n",
    "valid_elts = [e for e in textual_elements if is_in_box(e)]\n",
    "\n",
    "[v.text for v in valid_elts]\n",
    "\n",
    "\n",
    "\n",
    "\"\"\"\n",
    "\n",
    "Summary of where we are as of 11/30/17\n",
    "\n",
    "Through the \"text-extraction\" approach, we get 95% of the data. \n",
    "Sometimes, however, some text is put in the wrong order in the\n",
    "document so we miss it. See the 10:08 AM report on 11/28/17.\n",
    "\n",
    "The approach of \"finding everything within the box\" is quite\n",
    "messy and difficult. But it might be able to get all the info.\n",
    "The main problem is that I can't figure out how to properly\n",
    "interleave the TextLines and TextBoxes. It's close — might need\n",
    "to extract the TextLines within the TextBoxes. But it's such a messy operation\n",
    "that I'd rather go with the text-extraction approach for the MVP.\n",
    "\n",
    "\"\"\""
   ]
  },
  {
   "cell_type": "code",
   "execution_count": null,
   "metadata": {
    "collapsed": true
   },
   "outputs": [],
   "source": []
  }
 ],
 "metadata": {
  "anaconda-cloud": {},
  "kernelspec": {
   "display_name": "Python [default]",
   "language": "python",
   "name": "python2"
  },
  "language_info": {
   "codemirror_mode": {
    "name": "ipython",
    "version": 2
   },
   "file_extension": ".py",
   "mimetype": "text/x-python",
   "name": "python",
   "nbconvert_exporter": "python",
   "pygments_lexer": "ipython2",
   "version": "2.7.12"
  }
 },
 "nbformat": 4,
 "nbformat_minor": 2
}
