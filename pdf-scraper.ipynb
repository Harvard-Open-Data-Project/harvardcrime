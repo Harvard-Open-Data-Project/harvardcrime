{
 "cells": [
  {
   "cell_type": "code",
   "execution_count": 1,
   "metadata": {
    "collapsed": true
   },
   "outputs": [],
   "source": [
    "import pdfquery\n"
   ]
  },
  {
   "cell_type": "code",
   "execution_count": 2,
   "metadata": {
    "collapsed": true
   },
   "outputs": [],
   "source": [
    "pdf = pdfquery.PDFQuery(\"data/112817.pdf\")\n",
    "pdf.load()"
   ]
  },
  {
   "cell_type": "code",
   "execution_count": 3,
   "metadata": {
    "collapsed": false
   },
   "outputs": [],
   "source": [
    "# see what happens when we dump it\n",
    "filename = \"tmp.xml\"\n",
    "pdf.tree.write(filename, pretty_print=True)"
   ]
  },
  {
   "cell_type": "code",
   "execution_count": 18,
   "metadata": {
    "collapsed": false
   },
   "outputs": [
    {
     "data": {
      "text/plain": [
       "['Francis D. Riley ',\n",
       " 'Chief Of Police ',\n",
       " '',\n",
       " '1033 Massachusetts Avenue ',\n",
       " 'Sixth Floor ',\n",
       " 'Cambridge, Massachusetts 02138 ',\n",
       " 'Phone: 617-495-1215 ',\n",
       " 'Fax: 617-495-7782 ',\n",
       " 'President and Fellows of Harvard College ',\n",
       " '',\n",
       " '',\n",
       " '',\n",
       " '',\n",
       " '',\n",
       " '',\n",
       " '',\n",
       " '',\n",
       " '',\n",
       " '',\n",
       " 'Officer dispatched to a report of an unwanted guest sitting in on a class. Officer arrived, located individual and ',\n",
       " 'conducted a field interview. The individual was run for wants/warrants with negative results. The individual was then ',\n",
       " 'advised that they need to get permission to sit in on future classes. The individual was then sent on their way. ',\n",
       " '11/28/17 ',\n",
       " '3:14 PM ',\n",
       " '',\n",
       " '11/16/17 ',\n",
       " '10:08 AM ',\n",
       " '',\n",
       " '',\n",
       " '',\n",
       " '',\n",
       " '',\n",
       " '',\n",
       " '11/28/17 ',\n",
       " '8:26 AM ',\n",
       " '',\n",
       " '',\n",
       " '',\n",
       " '',\n",
       " '',\n",
       " '',\n",
       " '',\n",
       " '',\n",
       " '11/28/17 ',\n",
       " '9:08 AM ',\n",
       " '',\n",
       " '',\n",
       " '',\n",
       " '',\n",
       " '',\n",
       " '',\n",
       " '',\n",
       " '',\n",
       " '11/28/17 ',\n",
       " '10:17 AM ',\n",
       " '',\n",
       " '11/27/17 - 5:45 PM ',\n",
       " '11/28/17 - 9:00 AM ',\n",
       " '',\n",
       " '',\n",
       " '',\n",
       " '',\n",
       " '',\n",
       " '11/28/17 ',\n",
       " '12:07 PM ',\n",
       " '',\n",
       " '11/27/17 - 4:53 PM ',\n",
       " '11/28/17 - 11:02 AM ',\n",
       " '',\n",
       " '',\n",
       " '',\n",
       " '',\n",
       " '11/28/17 ',\n",
       " '1:48 PM ',\n",
       " '',\n",
       " '',\n",
       " '',\n",
       " '',\n",
       " '',\n",
       " '',\n",
       " '',\n",
       " '',\n",
       " '',\n",
       " '',\n",
       " '',\n",
       " 'Francis D. Riley ',\n",
       " 'Chief Of Police ',\n",
       " '',\n",
       " '1033 Massachusetts Avenue ',\n",
       " 'Sixth Floor ',\n",
       " 'Cambridge, Massachusetts 02138 ',\n",
       " 'Phone: 617-495-1215 ',\n",
       " 'Fax: 617-495-7782 ',\n",
       " 'President and Fellows of Harvard College ',\n",
       " '',\n",
       " '',\n",
       " '',\n",
       " '',\n",
       " '',\n",
       " '',\n",
       " 'Officers dispatched to a report of an individual wandering in and out of the library for the last 20 minutes. Officers ',\n",
       " 'arrived and report individual gone on arrival. ',\n",
       " 'Officer dispatched to a report of two individuals wandering around the lobby area of the building. Officer arrived and ',\n",
       " 'report individuals gone on arrival. ',\n",
       " '',\n",
       " '',\n",
       " '',\n",
       " '',\n",
       " '',\n",
       " '11/28/17 ',\n",
       " '4:20 PM ',\n",
       " '',\n",
       " '11/28/17 ',\n",
       " '4:20 PM ',\n",
       " 'EMERSON HALL ',\n",
       " '26 HARVARD YARD ',\n",
       " '',\n",
       " '',\n",
       " '',\n",
       " '11/28/17 ',\n",
       " '9:35 PM ',\n",
       " '',\n",
       " '11/28/17 ',\n",
       " '9:35 PM ',\n",
       " '',\n",
       " '',\n",
       " '',\n",
       " '',\n",
       " '']"
      ]
     },
     "execution_count": 18,
     "metadata": {},
     "output_type": "execute_result"
    }
   ],
   "source": [
    "[t.text for t in pdf.tree.findall(\".//LTTextLineHorizontal\")]\n",
    "\n",
    "\n"
   ]
  },
  {
   "cell_type": "code",
   "execution_count": 19,
   "metadata": {
    "collapsed": false
   },
   "outputs": [
    {
     "data": {
      "text/plain": [
       "['',\n",
       " 'Harvard University Police Department ',\n",
       " '',\n",
       " u'Copyright \\xa9 ',\n",
       " '2017 ',\n",
       " 'PUBLIC POLICE LOG ',\n",
       " '11/28/2017 ',\n",
       " 'Date & Time ',\n",
       " 'Date & Time ',\n",
       " 'Officer dispatched to take a report of a stolen U.S. currency valued at $620.00. ',\n",
       " 'Officer dispatched to take a report of a stolen blue Canada Goose jacket valued at $1,000.00. ',\n",
       " 'Officer dispatched to take a report of a stolen green Subaru Forrester valued at $12,000.00. ',\n",
       " 'Officer dispatched to take a report of threats. ',\n",
       " '',\n",
       " '',\n",
       " 'Officer dispatched to take a report of a stolen package containing an HP laptop valued at $821.00. ',\n",
       " '',\n",
       " '1 WESTERN AVE ',\n",
       " 'Reported ',\n",
       " 'Incident Type ',\n",
       " 'Occurred ',\n",
       " 'Location ',\n",
       " 'Disposition ',\n",
       " '',\n",
       " 'THEFT REPORT ',\n",
       " '11/28/17 ',\n",
       " '7:30 AM - 8:00 AM ',\n",
       " 'MALKIN ATHLETIC CENTER ',\n",
       " '39 HOLYOKE ST ',\n",
       " 'CAMBRIDGE ',\n",
       " 'CLOSED ',\n",
       " ' ',\n",
       " '',\n",
       " 'THEFT REPORT ',\n",
       " '11/21/17 ',\n",
       " '2:00 PM - 6:00 PM ',\n",
       " 'NEW DENTAL RESEARCH BUILDING ',\n",
       " '190 LONGWOOD AVE ',\n",
       " 'BOSTON ',\n",
       " 'CLOSED ',\n",
       " ' ',\n",
       " '',\n",
       " 'MOTOR VEHICLE THEFT ',\n",
       " '',\n",
       " 'FACULTY ROW CAR PORT ',\n",
       " '46 LINNAEAN ST ',\n",
       " 'CAMBRIDGE ',\n",
       " 'CLOSED ',\n",
       " ' ',\n",
       " '',\n",
       " 'THREAT(S) ',\n",
       " '',\n",
       " 'DUDLEY HOUSE - LEHMAN HALL ',\n",
       " '8 HARVARD YARD ',\n",
       " 'CAMBRIDGE ',\n",
       " 'OPEN ',\n",
       " '',\n",
       " 'FIELD INTERVIEW ',\n",
       " '11/28/17 ',\n",
       " '1:48 PM - 2:31 PM ',\n",
       " 'ALDRICH HALL ',\n",
       " '35 HARVARD WAY ',\n",
       " 'ALLSTON ',\n",
       " 'CLOSED ',\n",
       " ' ',\n",
       " 'THEFT REPORT ',\n",
       " 'CLOSED ',\n",
       " 'ALLSTON ',\n",
       " '',\n",
       " 'Harvard University Police Department ',\n",
       " '',\n",
       " u'Copyright \\xa9 ',\n",
       " '2017 ',\n",
       " 'PUBLIC POLICE LOG ',\n",
       " '11/28/2017 ',\n",
       " 'Date & Time ',\n",
       " 'Date & Time ',\n",
       " '',\n",
       " '',\n",
       " 'Reported ',\n",
       " 'Incident Type ',\n",
       " 'Occurred ',\n",
       " 'Location ',\n",
       " 'Disposition ',\n",
       " '',\n",
       " 'SUSPICIOUS ACTIVITY ',\n",
       " '',\n",
       " '',\n",
       " 'CAMBRIDGE ',\n",
       " 'CLOSED ',\n",
       " ' ',\n",
       " '',\n",
       " 'SUSPICIOUS ACTIVITY ',\n",
       " '',\n",
       " 'PEABODY TERRACE 09 ',\n",
       " '900 MEMORIAL DR ',\n",
       " 'CAMBRIDGE ',\n",
       " 'CLOSED ',\n",
       " ' ']"
      ]
     },
     "execution_count": 19,
     "metadata": {},
     "output_type": "execute_result"
    }
   ],
   "source": [
    "[t.text for t in pdf.tree.findall(\".//LTTextBoxHorizontal\")]"
   ]
  },
  {
   "cell_type": "code",
   "execution_count": 36,
   "metadata": {
    "collapsed": false
   },
   "outputs": [],
   "source": [
    "# so each individual report, as well as headers, is filed inside \n",
    "# its own <LTCurve>. The text fields are inside <LTTextLineHorizontal>s and <LTTextBoxHorizontal>s.\n",
    "\n",
    "reports_plus_heads = pdf.tree.findall(\".//LTCurve\")"
   ]
  },
  {
   "cell_type": "code",
   "execution_count": 37,
   "metadata": {
    "collapsed": false
   },
   "outputs": [],
   "source": [
    "def get_text_from_curve(ltcurve):\n",
    "    # text can be within LTTextBoxHorizontal or LTTextLineHorizontal\n",
    "    # the problem is that these are interleaved\n",
    "    # so we select EITHER as they come\n",
    "    # if we chose the Boxes first and the Lines second then merged those lists,\n",
    "    # the resulting list would be out of order!\n",
    "    # e.g. if the true order is B1 L1 B2 B3 L2, the approach we are using\n",
    "    # gives you the right order... but choosing Boxes and Lines separately\n",
    "    # gives you B1 B2 B3 L1 L2!!!!\n",
    "    textual_elements = ltcurve.cssselect(\"LTTextBoxHorizontal, LTTextLineHorizontal\")\n",
    "    texts = [t.text.strip() for t in textual_elements]\n",
    "    \n",
    "    # remove empty lines\n",
    "    cleaned_texts = [t for t in texts if t != '']\n",
    "    \n",
    "    # PROBLEM with this approach: in rare cases some text from this falls way\n",
    "    # outside the ltcurve. Might it still be within the bounding box though?\n",
    "    \n",
    "    # UPDATE: try gathering all data\n",
    "    # for 11/28 consider these bboxes\n",
    "    #\n",
    "    # 10:08am [247.08, 80.197, 275.587, 90.18]\n",
    "    # hp laptop [6.0, 65.784, 737.868, 82.318]\n",
    "    # bounding box [3.36, 77.7, 754.86, 98.64]\n",
    "    \n",
    "    return cleaned_texts"
   ]
  },
  {
   "cell_type": "code",
   "execution_count": 38,
   "metadata": {
    "collapsed": false
   },
   "outputs": [],
   "source": [
    "HEADER_ROW_TEXT = ['Reported', 'Incident Type', 'Occurred', 'Location', 'Disposition']"
   ]
  },
  {
   "cell_type": "code",
   "execution_count": 39,
   "metadata": {
    "collapsed": true
   },
   "outputs": [],
   "source": [
    "incidents = [get_text_from_curve(lt) for lt in reports_plus_heads]\n",
    "\n",
    "# remove headers\n",
    "incidents_without_headers = [i for i in incidents if i != HEADER_ROW_TEXT]"
   ]
  },
  {
   "cell_type": "code",
   "execution_count": 40,
   "metadata": {
    "collapsed": false
   },
   "outputs": [
    {
     "data": {
      "text/plain": [
       "[['11/28/17',\n",
       "  '8:26 AM',\n",
       "  'THEFT REPORT',\n",
       "  '11/28/17',\n",
       "  '7:30 AM - 8:00 AM',\n",
       "  'MALKIN ATHLETIC CENTER',\n",
       "  '39 HOLYOKE ST',\n",
       "  'CAMBRIDGE',\n",
       "  'CLOSED'],\n",
       " ['11/28/17',\n",
       "  '9:08 AM',\n",
       "  'THEFT REPORT',\n",
       "  '11/21/17',\n",
       "  '2:00 PM - 6:00 PM',\n",
       "  'NEW DENTAL RESEARCH BUILDING',\n",
       "  '190 LONGWOOD AVE',\n",
       "  'BOSTON',\n",
       "  'CLOSED'],\n",
       " ['11/28/17',\n",
       "  '10:17 AM',\n",
       "  'MOTOR VEHICLE THEFT',\n",
       "  '11/27/17 - 5:45 PM',\n",
       "  '11/28/17 - 9:00 AM',\n",
       "  'FACULTY ROW CAR PORT',\n",
       "  '46 LINNAEAN ST',\n",
       "  'CAMBRIDGE',\n",
       "  'CLOSED'],\n",
       " ['11/28/17',\n",
       "  '12:07 PM',\n",
       "  'THREAT(S)',\n",
       "  '11/27/17 - 4:53 PM',\n",
       "  '11/28/17 - 11:02 AM',\n",
       "  'DUDLEY HOUSE - LEHMAN HALL',\n",
       "  '8 HARVARD YARD',\n",
       "  'CAMBRIDGE',\n",
       "  'OPEN'],\n",
       " ['11/28/17',\n",
       "  '1:48 PM',\n",
       "  'FIELD INTERVIEW',\n",
       "  '11/28/17',\n",
       "  '1:48 PM - 2:31 PM',\n",
       "  'ALDRICH HALL',\n",
       "  '35 HARVARD WAY',\n",
       "  'ALLSTON',\n",
       "  'CLOSED'],\n",
       " ['THEFT REPORT', 'CLOSED', 'ALLSTON'],\n",
       " ['11/28/17',\n",
       "  '4:20 PM',\n",
       "  'SUSPICIOUS ACTIVITY',\n",
       "  '11/28/17',\n",
       "  '4:20 PM',\n",
       "  'EMERSON HALL',\n",
       "  '26 HARVARD YARD',\n",
       "  'CAMBRIDGE',\n",
       "  'CLOSED'],\n",
       " ['11/28/17',\n",
       "  '9:35 PM',\n",
       "  'SUSPICIOUS ACTIVITY',\n",
       "  '11/28/17',\n",
       "  '9:35 PM',\n",
       "  'PEABODY TERRACE 09',\n",
       "  '900 MEMORIAL DR',\n",
       "  'CAMBRIDGE',\n",
       "  'CLOSED']]"
      ]
     },
     "execution_count": 40,
     "metadata": {},
     "output_type": "execute_result"
    }
   ],
   "source": [
    "incidents_without_headers"
   ]
  },
  {
   "cell_type": "code",
   "execution_count": 41,
   "metadata": {
    "collapsed": true
   },
   "outputs": [],
   "source": [
    "class Incident(object):\n",
    "    \n",
    "    def __init__(self, data_row):\n",
    "        # `data_row` is something like:\n",
    "        #\n",
    "        #  ['11/28/17',\n",
    "        #   '1:48 PM',\n",
    "        #   'FIELD INTERVIEW',\n",
    "        #   '11/28/17',\n",
    "        #   '1:48 PM - 2:31 PM',\n",
    "        #   'ALDRICH HALL',\n",
    "        #   '35 HARVARD WAY',\n",
    "        #   'ALLSTON',\n",
    "        #   'CLOSED'],\n",
    "        #\n",
    "        # The rows correspond to:\n",
    "        # 1. Date Reported\n",
    "        # 2. Time Reported\n",
    "        # 3. Incident Type\n",
    "        # 4. Date Occurred\n",
    "        # 5. Time Occurred\n",
    "        # 6. Location\n",
    "        # 7. Street Address\n",
    "        # 8. City (in Massachusetts)\n",
    "        # 9. \"Disposition Type\", per HUPD (whether the case is open or closed)\n",
    "        \n",
    "        self.date_reported = data_row[0]\n",
    "        self.time_reported = data_row[1]\n",
    "        self.incident_type = data_row[2]\n",
    "        self.location = data_row[5]\n",
    "        self.street_address = data_row[6]\n",
    "        self.city = data_row[7]\n",
    "        self.disposition = data_row[8]\n",
    "        \n",
    "        # TODO: there are 3 ways for date and time occurred to be \n",
    "        # represented! (left of /// is data_row[3], right of /// is data_row[4])\n",
    "        \"\"\"\n",
    "        11/28/17 /// 4:20 PM\n",
    "        11/21/17 /// 2:00 PM - 6:00 PM\n",
    "        11/27/17 - 5:45 PM /// 11/28/17 - 9:00 AM\n",
    "        \"\"\"\n",
    "        # The first & second ways are used if the start and end of the incident\n",
    "        # are on the same date. The third way is used if it spans multiple\n",
    "        # dates.\n",
    "        # TODO PARSE\n",
    "#         self.date_occurred = data_row[3]\n",
    "#         self.time_occurred = data_row[4]\n",
    "        \n",
    "        # TODO: convert date/time reported into datetime objects\n",
    "        \n",
    "        \n",
    "\n",
    "    # static\n",
    "    # this is the list of fields that are exported to CSV\n",
    "    # see to_dict_for_csv()\n",
    "    CSV_FIELDS = [\n",
    "        'date_reported',\n",
    "        'time_reported',\n",
    "        'incident_type',\n",
    "        'date_occurred',\n",
    "        'time_occurred',\n",
    "        'location',\n",
    "        'street_address',\n",
    "        'city',\n",
    "        'disposition'\n",
    "    ]\n",
    "    \n",
    "    def to_dict_for_csv(self):\n",
    "        # returns a nicer-formatted dict ready for insertion into a csv\n",
    "        # so that means any arrays need to be flattened to scalars\n",
    "        # also everything needs to be converted to ascii\n",
    "\n",
    "        # TODO: extract to utils module\n",
    "        def to_ascii(unicode_str):\n",
    "            if unicode_str is None:\n",
    "                return None\n",
    "            return unicode_str.encode(\"ascii\",\"replace\")\n",
    "\n",
    "        return dict(\n",
    "            date_reported=to_ascii(self.date_reported),\n",
    "            time_reported=to_ascii(self.time_reported),\n",
    "            incident_type=to_ascii(self.incident_type),\n",
    "            date_occurred=to_ascii(self.date_occurred),\n",
    "            time_occurred=to_ascii(self.time_occurred),\n",
    "            location=to_ascii(self.location),\n",
    "            street_address=to_ascii(self.street_address),\n",
    "            city=to_ascii(self.city),\n",
    "            disposition=to_ascii(self.disposition)\n",
    "        )"
   ]
  },
  {
   "cell_type": "code",
   "execution_count": 42,
   "metadata": {
    "collapsed": true
   },
   "outputs": [],
   "source": [
    "# TODO watch out for things like 11/24/17 where there were no incidents. there's a specific tag for those."
   ]
  },
  {
   "cell_type": "code",
   "execution_count": 43,
   "metadata": {
    "collapsed": false
   },
   "outputs": [],
   "source": [
    "# convert incidents to proper objects\n",
    "# 9 = proper length of report; anything less is malformed\n",
    "# TODO clean up — extract error checking into its own make_incident_objects() function\n",
    "incident_objects = [Incident(i) for i in incidents_without_headers if len(i) == 9]"
   ]
  },
  {
   "cell_type": "code",
   "execution_count": 44,
   "metadata": {
    "collapsed": false
   },
   "outputs": [
    {
     "data": {
      "text/plain": [
       "{'city': 'CAMBRIDGE',\n",
       " 'date_occurred': '11/28/17',\n",
       " 'date_reported': '11/28/17',\n",
       " 'disposition': 'CLOSED',\n",
       " 'incident_type': 'THEFT REPORT',\n",
       " 'location': 'MALKIN ATHLETIC CENTER',\n",
       " 'street_address': '39 HOLYOKE ST',\n",
       " 'time_occurred': '7:30 AM - 8:00 AM',\n",
       " 'time_reported': '8:26 AM'}"
      ]
     },
     "execution_count": 44,
     "metadata": {},
     "output_type": "execute_result"
    }
   ],
   "source": [
    "incident_objects[0].to_dict_for_csv()"
   ]
  },
  {
   "cell_type": "code",
   "execution_count": 45,
   "metadata": {
    "collapsed": true
   },
   "outputs": [],
   "source": [
    "import csv\n",
    "import json\n",
    "\n",
    "def dump_csv(incidents):\n",
    "    \"\"\"\n",
    "    Dumps a list of Incident objects to CSV.\n",
    "    \"\"\"\n",
    "    with open('harvard_crime_incidents.csv', 'w') as csvfile:\n",
    "        fieldnames = Incident.CSV_FIELDS\n",
    "        writer = csv.DictWriter(csvfile, fieldnames=fieldnames)\n",
    "\n",
    "        writer.writeheader()\n",
    "\n",
    "        for incident in incidents:\n",
    "            writer.writerow(incident.to_dict_for_csv())"
   ]
  },
  {
   "cell_type": "code",
   "execution_count": 46,
   "metadata": {
    "collapsed": true
   },
   "outputs": [],
   "source": [
    "dump_csv(incident_objects)"
   ]
  },
  {
   "cell_type": "code",
   "execution_count": 49,
   "metadata": {
    "collapsed": true
   },
   "outputs": [],
   "source": [
    "curve = reports_plus_heads[2]"
   ]
  },
  {
   "cell_type": "code",
   "execution_count": null,
   "metadata": {
    "collapsed": true
   },
   "outputs": [],
   "source": []
  },
  {
   "cell_type": "code",
   "execution_count": null,
   "metadata": {
    "collapsed": true
   },
   "outputs": [],
   "source": []
  },
  {
   "cell_type": "code",
   "execution_count": 54,
   "metadata": {
    "collapsed": true
   },
   "outputs": [],
   "source": [
    "import re"
   ]
  },
  {
   "cell_type": "code",
   "execution_count": 78,
   "metadata": {
    "collapsed": false
   },
   "outputs": [],
   "source": [
    "data = [\n",
    "    [\"11/28/17\",\"4:20 PM\"],\n",
    "    [\"11/21/17\",\"2:00 PM - 6:00 PM\"],\n",
    "    [\"11/27/17 - 5:45 PM\",\"11/28/17 - 9:00 AM\"]\n",
    "]"
   ]
  },
  {
   "cell_type": "code",
   "execution_count": 89,
   "metadata": {
    "collapsed": true
   },
   "outputs": [],
   "source": [
    "def hour_to_24(hour, meridian):\n",
    "    \"\"\"\n",
    "    Converts a 12-hour representation to a 24-hour representation.\n",
    "    e.g.\n",
    "        12, \"AM\" => 0\n",
    "         6, \"AM\" => 6\n",
    "        12, \"PM\" => 12\n",
    "         3, \"PM\" => 15\n",
    "        11, \"PM\" => 23\n",
    "    \"\"\"\n",
    "    \n",
    "    # first, if it's 12 whatever, subtract the 12 because it's actually 0\n",
    "    if hour == 12:\n",
    "        hour -= 12\n",
    "        \n",
    "    # if it's PM, add 12\n",
    "    if meridian == \"PM\":\n",
    "        hour += 12\n",
    "        \n",
    "    return hour"
   ]
  },
  {
   "cell_type": "code",
   "execution_count": 108,
   "metadata": {
    "collapsed": false
   },
   "outputs": [
    {
     "name": "stdout",
     "output_type": "stream",
     "text": [
      "11/28/17 | 4:20 PM\n",
      "2017-11-28 16:20:00\n",
      "2017-11-28 16:20:00\n",
      "(datetime.datetime(2017, 11, 28, 16, 20), datetime.datetime(2017, 11, 28, 16, 20))\n",
      "\n",
      "11/21/17 | 2:00 PM - 6:00 PM\n",
      "2017-11-21 14:00:00\n",
      "2017-11-21 18:00:00\n",
      "(datetime.datetime(2017, 11, 21, 14, 0), datetime.datetime(2017, 11, 21, 18, 0))\n",
      "\n",
      "11/27/17 - 5:45 PM | 11/28/17 - 9:00 AM\n",
      "2017-11-27 17:45:00\n",
      "2017-11-28 09:00:00\n",
      "(datetime.datetime(2017, 11, 27, 17, 45), datetime.datetime(2017, 11, 28, 9, 0))\n"
     ]
    }
   ],
   "source": [
    "import datetime\n",
    "\n",
    "    \n",
    "def parse_datetime_tuple(dt_tuple):\n",
    "    \"\"\"\n",
    "    Converts a tuple like ('11', '27', '17', '5', '45', 'PM')\n",
    "    into a proper Python datetime object.\n",
    "\n",
    "    It MUST be 6 elements long and have exactly the right\n",
    "    order of elements.\n",
    "    \"\"\"\n",
    "\n",
    "    if len(dt_tuple) != 6:\n",
    "        raise ValueError\n",
    "\n",
    "    # abbreviate for simplicity\n",
    "    R = dt_tuple\n",
    "\n",
    "    # convert this to a datetime\n",
    "    # year is encoded as 2-digit\n",
    "    year = 2000 + int(R[2])\n",
    "    month = int(R[0])\n",
    "    day = int(R[1])\n",
    "    # need to convert this 12-hour representation to 24-hours\n",
    "    hour = hour_to_24(int(R[3]), R[5])\n",
    "    minute = int(R[4])\n",
    "    # no seconds\n",
    "\n",
    "    # TODO: set timezone as EST; see\n",
    "    # https://docs.python.org/2/library/datetime.html#datetime-objects\n",
    "    dt = datetime.datetime(year, month, day, hour, minute)\n",
    "    return dt\n",
    "\n",
    "def parse_occurrence_string(occurrence_array):\n",
    "    \"\"\"\n",
    "    Parses a list of 2 elements that represents \n",
    "    when an incident occurred. The following formats\n",
    "    are all supported:\n",
    "    \n",
    "    [\"11/28/17\",\"4:20 PM\"],\n",
    "    [\"11/21/17\",\"2:00 PM - 6:00 PM\"],\n",
    "    [\"11/27/17 - 5:45 PM\",\"11/28/17 - 9:00 AM\"]\n",
    "     \n",
    "    Transforms this into a timestamp of when it started.\n",
    "    \"\"\"\n",
    "    # concatenate and trim whitespace\n",
    "    occurrence = (occurrence_array[0] + \" | \" + occurrence_array[1]).strip()\n",
    "    \n",
    "    print occurrence\n",
    "    \n",
    "    start = None\n",
    "    end = None\n",
    "\n",
    "    \n",
    "    # CASE I: simplest, occurred at a constant time and not a range\n",
    "    simple_matcher = re.compile(\n",
    "        \"^(\\d{1,2})\\/(\\d{1,2})\\/(\\d{2}) \\| (\\d{1,2}):(\\d{2}) ([A|P]M)$\")\n",
    "    simple_result = simple_matcher.findall(occurrence)\n",
    "    if len(simple_result) > 0:\n",
    "        # this matches Case I\n",
    "        # return group length = 6\n",
    "        # abbreviate this for simplicity\n",
    "        R = simple_result[0]\n",
    "        \n",
    "        start = parse_datetime_tuple(R)\n",
    "        # end time is same as start time\n",
    "        end = start\n",
    "    \n",
    "    # CASE II: range of times on the SAME day\n",
    "    range_matcher = re.compile(\n",
    "        \"^(\\d{1,2})\\/(\\d{1,2})\\/(\\d{2}) \\| (\\d{1,2}):(\\d{2}) ([A|P]M) - (\\d{1,2}):(\\d{2}) ([A|P]M)$\")\n",
    "    range_result = range_matcher.findall(occurrence)\n",
    "    if len(range_result) > 0:\n",
    "        # this matches Case II\n",
    "        # return group length = 9\n",
    "        # abbreviate this for simplicity\n",
    "        R = range_result[0]\n",
    "        \n",
    "        # convert to datetime\n",
    "        # start has R[0, 1, 2, 3, 4, 5]\n",
    "        # end has R[0, 1, 2, 6, 7, 8]\n",
    "        \n",
    "        start_tuple = R[0:6]\n",
    "        start = parse_datetime_tuple(start_tuple)\n",
    "        end_tuple = (R[0], R[1], R[2], R[6], R[7], R[8])\n",
    "        end = parse_datetime_tuple(end_tuple)\n",
    "    \n",
    "    # CASE III: range of times ACROSS days\n",
    "    # TODO: break this down across lines\n",
    "    across_day_matcher = re.compile(\n",
    "        \"^(\\d{1,2})\\/(\\d{1,2})\\/(\\d{2}) - (\\d{1,2}):(\\d{2}) ([A|P]M) \\| (\\d{1,2})\\/(\\d{1,2})\\/(\\d{2}) - (\\d{1,2}):(\\d{2}) ([A|P]M)$\")\n",
    "    across_day_result = across_day_matcher.findall(occurrence)\n",
    "    if len(across_day_result) > 0:\n",
    "        # this matches Case III\n",
    "        # return group length = 12\n",
    "\n",
    "        # abbreviate this for simplicity\n",
    "        R = across_day_result[0]\n",
    "        \n",
    "        # convert start and end for datetime\n",
    "        # start is encoded as elements [0,6); end is [6, 12)\n",
    "        start = parse_datetime_tuple(R[0:6])\n",
    "        end = parse_datetime_tuple(R[6:12])\n",
    "        \n",
    "    print start\n",
    "    print end\n",
    "    return (start, end)\n",
    "\n",
    "        \n",
    "print parse_occurrence_string(data[0])\n",
    "print \"\"\n",
    "print parse_occurrence_string(data[1])\n",
    "print \"\"\n",
    "print parse_occurrence_string(data[2])"
   ]
  }
 ],
 "metadata": {
  "anaconda-cloud": {},
  "kernelspec": {
   "display_name": "Python [default]",
   "language": "python",
   "name": "python2"
  },
  "language_info": {
   "codemirror_mode": {
    "name": "ipython",
    "version": 2
   },
   "file_extension": ".py",
   "mimetype": "text/x-python",
   "name": "python",
   "nbconvert_exporter": "python",
   "pygments_lexer": "ipython2",
   "version": "2.7.12"
  }
 },
 "nbformat": 4,
 "nbformat_minor": 2
}
