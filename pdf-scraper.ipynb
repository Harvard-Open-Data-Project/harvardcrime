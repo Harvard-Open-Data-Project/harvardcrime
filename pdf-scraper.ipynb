{
 "cells": [
  {
   "cell_type": "code",
   "execution_count": 1,
   "metadata": {
    "collapsed": true
   },
   "outputs": [],
   "source": [
    "import pdfquery\n"
   ]
  },
  {
   "cell_type": "code",
   "execution_count": 7,
   "metadata": {
    "collapsed": true
   },
   "outputs": [],
   "source": [
    "pdf = pdfquery.PDFQuery(\"data/112817.pdf\")\n",
    "pdf.load()"
   ]
  },
  {
   "cell_type": "code",
   "execution_count": 8,
   "metadata": {
    "collapsed": false
   },
   "outputs": [],
   "source": [
    "# see what happens when we dump it\n",
    "filename = \"tmp.xml\"\n",
    "pdf.tree.write(filename, pretty_print=True)"
   ]
  },
  {
   "cell_type": "code",
   "execution_count": 13,
   "metadata": {
    "collapsed": false
   },
   "outputs": [
    {
     "data": {
      "text/plain": [
       "['Francis D. Riley ',\n",
       " 'Chief Of Police ',\n",
       " '',\n",
       " '1033 Massachusetts Avenue ',\n",
       " 'Sixth Floor ',\n",
       " 'Cambridge, Massachusetts 02138 ',\n",
       " 'Phone: 617-495-1215 ',\n",
       " 'Fax: 617-495-7782 ',\n",
       " 'President and Fellows of Harvard College ',\n",
       " '',\n",
       " '',\n",
       " '',\n",
       " '',\n",
       " '',\n",
       " '',\n",
       " '',\n",
       " '',\n",
       " '',\n",
       " '',\n",
       " 'Officer dispatched to a report of an unwanted guest sitting in on a class. Officer arrived, located individual and ',\n",
       " 'conducted a field interview. The individual was run for wants/warrants with negative results. The individual was then ',\n",
       " 'advised that they need to get permission to sit in on future classes. The individual was then sent on their way. ',\n",
       " '11/28/17 ',\n",
       " '3:14 PM ',\n",
       " '',\n",
       " '11/16/17 ',\n",
       " '10:08 AM ',\n",
       " '',\n",
       " '',\n",
       " '',\n",
       " '',\n",
       " '',\n",
       " '',\n",
       " '11/28/17 ',\n",
       " '8:26 AM ',\n",
       " '',\n",
       " '',\n",
       " '',\n",
       " '',\n",
       " '',\n",
       " '',\n",
       " '',\n",
       " '',\n",
       " '11/28/17 ',\n",
       " '9:08 AM ',\n",
       " '',\n",
       " '',\n",
       " '',\n",
       " '',\n",
       " '',\n",
       " '',\n",
       " '',\n",
       " '',\n",
       " '11/28/17 ',\n",
       " '10:17 AM ',\n",
       " '',\n",
       " '11/27/17 - 5:45 PM ',\n",
       " '11/28/17 - 9:00 AM ',\n",
       " '',\n",
       " '',\n",
       " '',\n",
       " '',\n",
       " '',\n",
       " '11/28/17 ',\n",
       " '12:07 PM ',\n",
       " '',\n",
       " '11/27/17 - 4:53 PM ',\n",
       " '11/28/17 - 11:02 AM ',\n",
       " '',\n",
       " '',\n",
       " '',\n",
       " '',\n",
       " '11/28/17 ',\n",
       " '1:48 PM ',\n",
       " '',\n",
       " '',\n",
       " '',\n",
       " '',\n",
       " '',\n",
       " '',\n",
       " '',\n",
       " '',\n",
       " '',\n",
       " '',\n",
       " '',\n",
       " 'Francis D. Riley ',\n",
       " 'Chief Of Police ',\n",
       " '',\n",
       " '1033 Massachusetts Avenue ',\n",
       " 'Sixth Floor ',\n",
       " 'Cambridge, Massachusetts 02138 ',\n",
       " 'Phone: 617-495-1215 ',\n",
       " 'Fax: 617-495-7782 ',\n",
       " 'President and Fellows of Harvard College ',\n",
       " '',\n",
       " '',\n",
       " '',\n",
       " '',\n",
       " '',\n",
       " '',\n",
       " 'Officers dispatched to a report of an individual wandering in and out of the library for the last 20 minutes. Officers ',\n",
       " 'arrived and report individual gone on arrival. ',\n",
       " 'Officer dispatched to a report of two individuals wandering around the lobby area of the building. Officer arrived and ',\n",
       " 'report individuals gone on arrival. ',\n",
       " '',\n",
       " '',\n",
       " '',\n",
       " '',\n",
       " '',\n",
       " '11/28/17 ',\n",
       " '4:20 PM ',\n",
       " '',\n",
       " '11/28/17 ',\n",
       " '4:20 PM ',\n",
       " 'EMERSON HALL ',\n",
       " '26 HARVARD YARD ',\n",
       " '',\n",
       " '',\n",
       " '',\n",
       " '11/28/17 ',\n",
       " '9:35 PM ',\n",
       " '',\n",
       " '11/28/17 ',\n",
       " '9:35 PM ',\n",
       " '',\n",
       " '',\n",
       " '',\n",
       " '',\n",
       " '']"
      ]
     },
     "execution_count": 13,
     "metadata": {},
     "output_type": "execute_result"
    }
   ],
   "source": [
    "[t.text for t in pdf.tree.findall(\".//LTTextLineHorizontal\")]"
   ]
  },
  {
   "cell_type": "code",
   "execution_count": 14,
   "metadata": {
    "collapsed": false
   },
   "outputs": [
    {
     "data": {
      "text/plain": [
       "['',\n",
       " 'Harvard University Police Department ',\n",
       " '',\n",
       " u'Copyright \\xa9 ',\n",
       " '2017 ',\n",
       " 'PUBLIC POLICE LOG ',\n",
       " '11/28/2017 ',\n",
       " 'Date & Time ',\n",
       " 'Date & Time ',\n",
       " 'Officer dispatched to take a report of a stolen U.S. currency valued at $620.00. ',\n",
       " 'Officer dispatched to take a report of a stolen blue Canada Goose jacket valued at $1,000.00. ',\n",
       " 'Officer dispatched to take a report of a stolen green Subaru Forrester valued at $12,000.00. ',\n",
       " 'Officer dispatched to take a report of threats. ',\n",
       " '',\n",
       " '',\n",
       " 'Officer dispatched to take a report of a stolen package containing an HP laptop valued at $821.00. ',\n",
       " '',\n",
       " '1 WESTERN AVE ',\n",
       " 'Reported ',\n",
       " 'Incident Type ',\n",
       " 'Occurred ',\n",
       " 'Location ',\n",
       " 'Disposition ',\n",
       " '',\n",
       " 'THEFT REPORT ',\n",
       " '11/28/17 ',\n",
       " '7:30 AM - 8:00 AM ',\n",
       " 'MALKIN ATHLETIC CENTER ',\n",
       " '39 HOLYOKE ST ',\n",
       " 'CAMBRIDGE ',\n",
       " 'CLOSED ',\n",
       " ' ',\n",
       " '',\n",
       " 'THEFT REPORT ',\n",
       " '11/21/17 ',\n",
       " '2:00 PM - 6:00 PM ',\n",
       " 'NEW DENTAL RESEARCH BUILDING ',\n",
       " '190 LONGWOOD AVE ',\n",
       " 'BOSTON ',\n",
       " 'CLOSED ',\n",
       " ' ',\n",
       " '',\n",
       " 'MOTOR VEHICLE THEFT ',\n",
       " '',\n",
       " 'FACULTY ROW CAR PORT ',\n",
       " '46 LINNAEAN ST ',\n",
       " 'CAMBRIDGE ',\n",
       " 'CLOSED ',\n",
       " ' ',\n",
       " '',\n",
       " 'THREAT(S) ',\n",
       " '',\n",
       " 'DUDLEY HOUSE - LEHMAN HALL ',\n",
       " '8 HARVARD YARD ',\n",
       " 'CAMBRIDGE ',\n",
       " 'OPEN ',\n",
       " '',\n",
       " 'FIELD INTERVIEW ',\n",
       " '11/28/17 ',\n",
       " '1:48 PM - 2:31 PM ',\n",
       " 'ALDRICH HALL ',\n",
       " '35 HARVARD WAY ',\n",
       " 'ALLSTON ',\n",
       " 'CLOSED ',\n",
       " ' ',\n",
       " 'THEFT REPORT ',\n",
       " 'CLOSED ',\n",
       " 'ALLSTON ',\n",
       " '',\n",
       " 'Harvard University Police Department ',\n",
       " '',\n",
       " u'Copyright \\xa9 ',\n",
       " '2017 ',\n",
       " 'PUBLIC POLICE LOG ',\n",
       " '11/28/2017 ',\n",
       " 'Date & Time ',\n",
       " 'Date & Time ',\n",
       " '',\n",
       " '',\n",
       " 'Reported ',\n",
       " 'Incident Type ',\n",
       " 'Occurred ',\n",
       " 'Location ',\n",
       " 'Disposition ',\n",
       " '',\n",
       " 'SUSPICIOUS ACTIVITY ',\n",
       " '',\n",
       " '',\n",
       " 'CAMBRIDGE ',\n",
       " 'CLOSED ',\n",
       " ' ',\n",
       " '',\n",
       " 'SUSPICIOUS ACTIVITY ',\n",
       " '',\n",
       " 'PEABODY TERRACE 09 ',\n",
       " '900 MEMORIAL DR ',\n",
       " 'CAMBRIDGE ',\n",
       " 'CLOSED ',\n",
       " ' ']"
      ]
     },
     "execution_count": 14,
     "metadata": {},
     "output_type": "execute_result"
    }
   ],
   "source": [
    "[t.text for t in pdf.tree.findall(\".//LTTextBoxHorizontal\")]"
   ]
  },
  {
   "cell_type": "code",
   "execution_count": 15,
   "metadata": {
    "collapsed": true
   },
   "outputs": [],
   "source": [
    "# so each individual report, as well as headers, is filed inside \n",
    "# its own <LTCurve>. The text fields are inside <LTTextLineHorizontal>s and <LTTextBoxHorizontal>s."
   ]
  },
  {
   "cell_type": "code",
   "execution_count": 17,
   "metadata": {
    "collapsed": false
   },
   "outputs": [],
   "source": [
    "reports_plus_heads = pdf.tree.findall(\".//LTCurve\")"
   ]
  },
  {
   "cell_type": "code",
   "execution_count": 18,
   "metadata": {
    "collapsed": true
   },
   "outputs": [],
   "source": [
    "report2 = reports_plus_heads[1]"
   ]
  },
  {
   "cell_type": "code",
   "execution_count": 19,
   "metadata": {
    "collapsed": false
   },
   "outputs": [
    {
     "data": {
      "text/plain": [
       "<Element LTCurve at 0x1083e5788>"
      ]
     },
     "execution_count": 19,
     "metadata": {},
     "output_type": "execute_result"
    }
   ],
   "source": [
    "report2"
   ]
  },
  {
   "cell_type": "code",
   "execution_count": 21,
   "metadata": {
    "collapsed": false
   },
   "outputs": [],
   "source": []
  },
  {
   "cell_type": "code",
   "execution_count": 27,
   "metadata": {
    "collapsed": false
   },
   "outputs": [],
   "source": []
  },
  {
   "cell_type": "code",
   "execution_count": 28,
   "metadata": {
    "collapsed": false
   },
   "outputs": [
    {
     "data": {
      "text/plain": [
       "['11/28/17',\n",
       " '8:26 AM',\n",
       " 'THEFT REPORT',\n",
       " '11/28/17',\n",
       " '7:30 AM - 8:00 AM',\n",
       " 'MALKIN ATHLETIC CENTER',\n",
       " '39 HOLYOKE ST',\n",
       " 'CAMBRIDGE',\n",
       " 'CLOSED']"
      ]
     },
     "execution_count": 28,
     "metadata": {},
     "output_type": "execute_result"
    }
   ],
   "source": [
    "cleaned_texts"
   ]
  },
  {
   "cell_type": "code",
   "execution_count": 32,
   "metadata": {
    "collapsed": false
   },
   "outputs": [],
   "source": [
    "def get_text_from_curve(ltcurve):\n",
    "    textual_elements = (ltcurve.findall(\".//LTTextLineHorizontal\") + \n",
    "                        ltcurve.findall(\".//LTTextBoxHorizontal\"))\n",
    "    texts = [t.text.strip() for t in textual_elements]\n",
    "    \n",
    "    # remove empty lines\n",
    "    cleaned_texts = [t for t in texts if t != '']\n",
    "    \n",
    "    return cleaned_texts"
   ]
  },
  {
   "cell_type": "code",
   "execution_count": 35,
   "metadata": {
    "collapsed": false
   },
   "outputs": [],
   "source": [
    "HEADER_ROW_TEXT = ['Reported', 'Incident Type', 'Occurred', 'Location', 'Disposition']"
   ]
  },
  {
   "cell_type": "code",
   "execution_count": 36,
   "metadata": {
    "collapsed": true
   },
   "outputs": [],
   "source": [
    "incidents = [get_text_from_curve(lt) for lt in reports_plus_heads]\n",
    "\n",
    "# remove headers\n",
    "incidents_without_headers = [i for i in incidents if i != HEADER_ROW_TEXT]"
   ]
  },
  {
   "cell_type": "code",
   "execution_count": 37,
   "metadata": {
    "collapsed": false
   },
   "outputs": [
    {
     "data": {
      "text/plain": [
       "[['11/28/17',\n",
       "  '8:26 AM',\n",
       "  'THEFT REPORT',\n",
       "  '11/28/17',\n",
       "  '7:30 AM - 8:00 AM',\n",
       "  'MALKIN ATHLETIC CENTER',\n",
       "  '39 HOLYOKE ST',\n",
       "  'CAMBRIDGE',\n",
       "  'CLOSED'],\n",
       " ['11/28/17',\n",
       "  '9:08 AM',\n",
       "  'THEFT REPORT',\n",
       "  '11/21/17',\n",
       "  '2:00 PM - 6:00 PM',\n",
       "  'NEW DENTAL RESEARCH BUILDING',\n",
       "  '190 LONGWOOD AVE',\n",
       "  'BOSTON',\n",
       "  'CLOSED'],\n",
       " ['11/28/17',\n",
       "  '10:17 AM',\n",
       "  '11/27/17 - 5:45 PM',\n",
       "  '11/28/17 - 9:00 AM',\n",
       "  'MOTOR VEHICLE THEFT',\n",
       "  'FACULTY ROW CAR PORT',\n",
       "  '46 LINNAEAN ST',\n",
       "  'CAMBRIDGE',\n",
       "  'CLOSED'],\n",
       " ['11/28/17',\n",
       "  '12:07 PM',\n",
       "  '11/27/17 - 4:53 PM',\n",
       "  '11/28/17 - 11:02 AM',\n",
       "  'THREAT(S)',\n",
       "  'DUDLEY HOUSE - LEHMAN HALL',\n",
       "  '8 HARVARD YARD',\n",
       "  'CAMBRIDGE',\n",
       "  'OPEN'],\n",
       " ['11/28/17',\n",
       "  '1:48 PM',\n",
       "  'FIELD INTERVIEW',\n",
       "  '11/28/17',\n",
       "  '1:48 PM - 2:31 PM',\n",
       "  'ALDRICH HALL',\n",
       "  '35 HARVARD WAY',\n",
       "  'ALLSTON',\n",
       "  'CLOSED'],\n",
       " ['THEFT REPORT', 'CLOSED', 'ALLSTON'],\n",
       " ['11/28/17',\n",
       "  '4:20 PM',\n",
       "  '11/28/17',\n",
       "  '4:20 PM',\n",
       "  'EMERSON HALL',\n",
       "  '26 HARVARD YARD',\n",
       "  'SUSPICIOUS ACTIVITY',\n",
       "  'CAMBRIDGE',\n",
       "  'CLOSED'],\n",
       " ['11/28/17',\n",
       "  '9:35 PM',\n",
       "  '11/28/17',\n",
       "  '9:35 PM',\n",
       "  'SUSPICIOUS ACTIVITY',\n",
       "  'PEABODY TERRACE 09',\n",
       "  '900 MEMORIAL DR',\n",
       "  'CAMBRIDGE',\n",
       "  'CLOSED']]"
      ]
     },
     "execution_count": 37,
     "metadata": {},
     "output_type": "execute_result"
    }
   ],
   "source": [
    "incidents_without_headers"
   ]
  },
  {
   "cell_type": "code",
   "execution_count": null,
   "metadata": {
    "collapsed": true
   },
   "outputs": [],
   "source": []
  }
 ],
 "metadata": {
  "anaconda-cloud": {},
  "kernelspec": {
   "display_name": "Python [default]",
   "language": "python",
   "name": "python2"
  },
  "language_info": {
   "codemirror_mode": {
    "name": "ipython",
    "version": 2
   },
   "file_extension": ".py",
   "mimetype": "text/x-python",
   "name": "python",
   "nbconvert_exporter": "python",
   "pygments_lexer": "ipython2",
   "version": "2.7.12"
  }
 },
 "nbformat": 4,
 "nbformat_minor": 2
}
