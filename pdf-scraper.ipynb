{
 "cells": [
  {
   "cell_type": "code",
   "execution_count": 1,
   "metadata": {
    "collapsed": true
   },
   "outputs": [],
   "source": [
    "import pdfquery\n"
   ]
  },
  {
   "cell_type": "code",
   "execution_count": 2,
   "metadata": {
    "collapsed": true
   },
   "outputs": [],
   "source": [
    "pdf = pdfquery.PDFQuery(\"data/112817.pdf\")\n",
    "pdf.load()"
   ]
  },
  {
   "cell_type": "code",
   "execution_count": 3,
   "metadata": {
    "collapsed": false
   },
   "outputs": [],
   "source": [
    "# see what happens when we dump it\n",
    "filename = \"tmp.xml\"\n",
    "pdf.tree.write(filename, pretty_print=True)"
   ]
  },
  {
   "cell_type": "code",
   "execution_count": 4,
   "metadata": {
    "collapsed": false
   },
   "outputs": [
    {
     "data": {
      "text/plain": [
       "['Francis D. Riley ',\n",
       " 'Chief Of Police ',\n",
       " '',\n",
       " '1033 Massachusetts Avenue ',\n",
       " 'Sixth Floor ',\n",
       " 'Cambridge, Massachusetts 02138 ',\n",
       " 'Phone: 617-495-1215 ',\n",
       " 'Fax: 617-495-7782 ',\n",
       " 'President and Fellows of Harvard College ',\n",
       " '',\n",
       " '',\n",
       " '',\n",
       " '',\n",
       " '',\n",
       " '',\n",
       " '',\n",
       " '',\n",
       " '',\n",
       " '',\n",
       " 'Officer dispatched to a report of an unwanted guest sitting in on a class. Officer arrived, located individual and ',\n",
       " 'conducted a field interview. The individual was run for wants/warrants with negative results. The individual was then ',\n",
       " 'advised that they need to get permission to sit in on future classes. The individual was then sent on their way. ',\n",
       " '11/28/17 ',\n",
       " '3:14 PM ',\n",
       " '',\n",
       " '11/16/17 ',\n",
       " '10:08 AM ',\n",
       " '',\n",
       " '',\n",
       " '',\n",
       " '',\n",
       " '',\n",
       " '',\n",
       " '11/28/17 ',\n",
       " '8:26 AM ',\n",
       " '',\n",
       " '',\n",
       " '',\n",
       " '',\n",
       " '',\n",
       " '',\n",
       " '',\n",
       " '',\n",
       " '11/28/17 ',\n",
       " '9:08 AM ',\n",
       " '',\n",
       " '',\n",
       " '',\n",
       " '',\n",
       " '',\n",
       " '',\n",
       " '',\n",
       " '',\n",
       " '11/28/17 ',\n",
       " '10:17 AM ',\n",
       " '',\n",
       " '11/27/17 - 5:45 PM ',\n",
       " '11/28/17 - 9:00 AM ',\n",
       " '',\n",
       " '',\n",
       " '',\n",
       " '',\n",
       " '',\n",
       " '11/28/17 ',\n",
       " '12:07 PM ',\n",
       " '',\n",
       " '11/27/17 - 4:53 PM ',\n",
       " '11/28/17 - 11:02 AM ',\n",
       " '',\n",
       " '',\n",
       " '',\n",
       " '',\n",
       " '11/28/17 ',\n",
       " '1:48 PM ',\n",
       " '',\n",
       " '',\n",
       " '',\n",
       " '',\n",
       " '',\n",
       " '',\n",
       " '',\n",
       " '',\n",
       " '',\n",
       " '',\n",
       " '',\n",
       " 'Francis D. Riley ',\n",
       " 'Chief Of Police ',\n",
       " '',\n",
       " '1033 Massachusetts Avenue ',\n",
       " 'Sixth Floor ',\n",
       " 'Cambridge, Massachusetts 02138 ',\n",
       " 'Phone: 617-495-1215 ',\n",
       " 'Fax: 617-495-7782 ',\n",
       " 'President and Fellows of Harvard College ',\n",
       " '',\n",
       " '',\n",
       " '',\n",
       " '',\n",
       " '',\n",
       " '',\n",
       " 'Officers dispatched to a report of an individual wandering in and out of the library for the last 20 minutes. Officers ',\n",
       " 'arrived and report individual gone on arrival. ',\n",
       " 'Officer dispatched to a report of two individuals wandering around the lobby area of the building. Officer arrived and ',\n",
       " 'report individuals gone on arrival. ',\n",
       " '',\n",
       " '',\n",
       " '',\n",
       " '',\n",
       " '',\n",
       " '11/28/17 ',\n",
       " '4:20 PM ',\n",
       " '',\n",
       " '11/28/17 ',\n",
       " '4:20 PM ',\n",
       " 'EMERSON HALL ',\n",
       " '26 HARVARD YARD ',\n",
       " '',\n",
       " '',\n",
       " '',\n",
       " '11/28/17 ',\n",
       " '9:35 PM ',\n",
       " '',\n",
       " '11/28/17 ',\n",
       " '9:35 PM ',\n",
       " '',\n",
       " '',\n",
       " '',\n",
       " '',\n",
       " '']"
      ]
     },
     "execution_count": 4,
     "metadata": {},
     "output_type": "execute_result"
    }
   ],
   "source": [
    "[t.text for t in pdf.tree.findall(\".//LTTextLineHorizontal\")]\n",
    "\n",
    "\n"
   ]
  },
  {
   "cell_type": "code",
   "execution_count": 5,
   "metadata": {
    "collapsed": false
   },
   "outputs": [
    {
     "data": {
      "text/plain": [
       "['',\n",
       " 'Harvard University Police Department ',\n",
       " '',\n",
       " u'Copyright \\xa9 ',\n",
       " '2017 ',\n",
       " 'PUBLIC POLICE LOG ',\n",
       " '11/28/2017 ',\n",
       " 'Date & Time ',\n",
       " 'Date & Time ',\n",
       " 'Officer dispatched to take a report of a stolen U.S. currency valued at $620.00. ',\n",
       " 'Officer dispatched to take a report of a stolen blue Canada Goose jacket valued at $1,000.00. ',\n",
       " 'Officer dispatched to take a report of a stolen green Subaru Forrester valued at $12,000.00. ',\n",
       " 'Officer dispatched to take a report of threats. ',\n",
       " '',\n",
       " '',\n",
       " 'Officer dispatched to take a report of a stolen package containing an HP laptop valued at $821.00. ',\n",
       " '',\n",
       " '1 WESTERN AVE ',\n",
       " 'Reported ',\n",
       " 'Incident Type ',\n",
       " 'Occurred ',\n",
       " 'Location ',\n",
       " 'Disposition ',\n",
       " '',\n",
       " 'THEFT REPORT ',\n",
       " '11/28/17 ',\n",
       " '7:30 AM - 8:00 AM ',\n",
       " 'MALKIN ATHLETIC CENTER ',\n",
       " '39 HOLYOKE ST ',\n",
       " 'CAMBRIDGE ',\n",
       " 'CLOSED ',\n",
       " ' ',\n",
       " '',\n",
       " 'THEFT REPORT ',\n",
       " '11/21/17 ',\n",
       " '2:00 PM - 6:00 PM ',\n",
       " 'NEW DENTAL RESEARCH BUILDING ',\n",
       " '190 LONGWOOD AVE ',\n",
       " 'BOSTON ',\n",
       " 'CLOSED ',\n",
       " ' ',\n",
       " '',\n",
       " 'MOTOR VEHICLE THEFT ',\n",
       " '',\n",
       " 'FACULTY ROW CAR PORT ',\n",
       " '46 LINNAEAN ST ',\n",
       " 'CAMBRIDGE ',\n",
       " 'CLOSED ',\n",
       " ' ',\n",
       " '',\n",
       " 'THREAT(S) ',\n",
       " '',\n",
       " 'DUDLEY HOUSE - LEHMAN HALL ',\n",
       " '8 HARVARD YARD ',\n",
       " 'CAMBRIDGE ',\n",
       " 'OPEN ',\n",
       " '',\n",
       " 'FIELD INTERVIEW ',\n",
       " '11/28/17 ',\n",
       " '1:48 PM - 2:31 PM ',\n",
       " 'ALDRICH HALL ',\n",
       " '35 HARVARD WAY ',\n",
       " 'ALLSTON ',\n",
       " 'CLOSED ',\n",
       " ' ',\n",
       " 'THEFT REPORT ',\n",
       " 'CLOSED ',\n",
       " 'ALLSTON ',\n",
       " '',\n",
       " 'Harvard University Police Department ',\n",
       " '',\n",
       " u'Copyright \\xa9 ',\n",
       " '2017 ',\n",
       " 'PUBLIC POLICE LOG ',\n",
       " '11/28/2017 ',\n",
       " 'Date & Time ',\n",
       " 'Date & Time ',\n",
       " '',\n",
       " '',\n",
       " 'Reported ',\n",
       " 'Incident Type ',\n",
       " 'Occurred ',\n",
       " 'Location ',\n",
       " 'Disposition ',\n",
       " '',\n",
       " 'SUSPICIOUS ACTIVITY ',\n",
       " '',\n",
       " '',\n",
       " 'CAMBRIDGE ',\n",
       " 'CLOSED ',\n",
       " ' ',\n",
       " '',\n",
       " 'SUSPICIOUS ACTIVITY ',\n",
       " '',\n",
       " 'PEABODY TERRACE 09 ',\n",
       " '900 MEMORIAL DR ',\n",
       " 'CAMBRIDGE ',\n",
       " 'CLOSED ',\n",
       " ' ']"
      ]
     },
     "execution_count": 5,
     "metadata": {},
     "output_type": "execute_result"
    }
   ],
   "source": [
    "[t.text for t in pdf.tree.findall(\".//LTTextBoxHorizontal\")]"
   ]
  },
  {
   "cell_type": "code",
   "execution_count": 6,
   "metadata": {
    "collapsed": false
   },
   "outputs": [],
   "source": [
    "# so each individual report, as well as headers, is filed inside \n",
    "# its own <LTCurve>. The text fields are inside <LTTextLineHorizontal>s and <LTTextBoxHorizontal>s.\n",
    "\n",
    "reports_plus_heads = pdf.tree.findall(\".//LTCurve\")"
   ]
  },
  {
   "cell_type": "code",
   "execution_count": 7,
   "metadata": {
    "collapsed": false
   },
   "outputs": [],
   "source": [
    "def get_text_from_curve(ltcurve):\n",
    "    # text can be within LTTextBoxHorizontal or LTTextLineHorizontal\n",
    "    # the problem is that these are interleaved\n",
    "    # so we select EITHER as they come\n",
    "    # if we chose the Boxes first and the Lines second then merged those lists,\n",
    "    # the resulting list would be out of order!\n",
    "    # e.g. if the true order is B1 L1 B2 B3 L2, the approach we are using\n",
    "    # gives you the right order... but choosing Boxes and Lines separately\n",
    "    # gives you B1 B2 B3 L1 L2!!!!\n",
    "    textual_elements = ltcurve.cssselect(\"LTTextBoxHorizontal, LTTextLineHorizontal\")\n",
    "    texts = [t.text.strip() for t in textual_elements]\n",
    "    \n",
    "    # remove empty lines\n",
    "    cleaned_texts = [t for t in texts if t != '']\n",
    "    \n",
    "    # PROBLEM with this approach: in rare cases some text from this falls way\n",
    "    # outside the ltcurve. Might it still be within the bounding box though?\n",
    "    \n",
    "    # UPDATE: try gathering all data\n",
    "    # for 11/28 consider these bboxes\n",
    "    #\n",
    "    # 10:08am [247.08, 80.197, 275.587, 90.18]\n",
    "    # hp laptop [6.0, 65.784, 737.868, 82.318]\n",
    "    # bounding box [3.36, 77.7, 754.86, 98.64]\n",
    "    \n",
    "    return cleaned_texts"
   ]
  },
  {
   "cell_type": "code",
   "execution_count": 8,
   "metadata": {
    "collapsed": false
   },
   "outputs": [],
   "source": [
    "HEADER_ROW_TEXT = ['Reported', 'Incident Type', 'Occurred', 'Location', 'Disposition']"
   ]
  },
  {
   "cell_type": "code",
   "execution_count": 9,
   "metadata": {
    "collapsed": true
   },
   "outputs": [],
   "source": [
    "incidents = [get_text_from_curve(lt) for lt in reports_plus_heads]\n",
    "\n",
    "# remove headers\n",
    "incidents_without_headers = [i for i in incidents if i != HEADER_ROW_TEXT]"
   ]
  },
  {
   "cell_type": "code",
   "execution_count": 10,
   "metadata": {
    "collapsed": false,
    "scrolled": true
   },
   "outputs": [
    {
     "data": {
      "text/plain": [
       "[['11/28/17',\n",
       "  '8:26 AM',\n",
       "  'THEFT REPORT',\n",
       "  '11/28/17',\n",
       "  '7:30 AM - 8:00 AM',\n",
       "  'MALKIN ATHLETIC CENTER',\n",
       "  '39 HOLYOKE ST',\n",
       "  'CAMBRIDGE',\n",
       "  'CLOSED'],\n",
       " ['11/28/17',\n",
       "  '9:08 AM',\n",
       "  'THEFT REPORT',\n",
       "  '11/21/17',\n",
       "  '2:00 PM - 6:00 PM',\n",
       "  'NEW DENTAL RESEARCH BUILDING',\n",
       "  '190 LONGWOOD AVE',\n",
       "  'BOSTON',\n",
       "  'CLOSED'],\n",
       " ['11/28/17',\n",
       "  '10:17 AM',\n",
       "  'MOTOR VEHICLE THEFT',\n",
       "  '11/27/17 - 5:45 PM',\n",
       "  '11/28/17 - 9:00 AM',\n",
       "  'FACULTY ROW CAR PORT',\n",
       "  '46 LINNAEAN ST',\n",
       "  'CAMBRIDGE',\n",
       "  'CLOSED'],\n",
       " ['11/28/17',\n",
       "  '12:07 PM',\n",
       "  'THREAT(S)',\n",
       "  '11/27/17 - 4:53 PM',\n",
       "  '11/28/17 - 11:02 AM',\n",
       "  'DUDLEY HOUSE - LEHMAN HALL',\n",
       "  '8 HARVARD YARD',\n",
       "  'CAMBRIDGE',\n",
       "  'OPEN'],\n",
       " ['11/28/17',\n",
       "  '1:48 PM',\n",
       "  'FIELD INTERVIEW',\n",
       "  '11/28/17',\n",
       "  '1:48 PM - 2:31 PM',\n",
       "  'ALDRICH HALL',\n",
       "  '35 HARVARD WAY',\n",
       "  'ALLSTON',\n",
       "  'CLOSED'],\n",
       " ['THEFT REPORT', 'CLOSED', 'ALLSTON'],\n",
       " ['11/28/17',\n",
       "  '4:20 PM',\n",
       "  'SUSPICIOUS ACTIVITY',\n",
       "  '11/28/17',\n",
       "  '4:20 PM',\n",
       "  'EMERSON HALL',\n",
       "  '26 HARVARD YARD',\n",
       "  'CAMBRIDGE',\n",
       "  'CLOSED'],\n",
       " ['11/28/17',\n",
       "  '9:35 PM',\n",
       "  'SUSPICIOUS ACTIVITY',\n",
       "  '11/28/17',\n",
       "  '9:35 PM',\n",
       "  'PEABODY TERRACE 09',\n",
       "  '900 MEMORIAL DR',\n",
       "  'CAMBRIDGE',\n",
       "  'CLOSED']]"
      ]
     },
     "execution_count": 10,
     "metadata": {},
     "output_type": "execute_result"
    }
   ],
   "source": [
    "incidents_without_headers"
   ]
  },
  {
   "cell_type": "code",
   "execution_count": 38,
   "metadata": {
    "collapsed": false
   },
   "outputs": [
    {
     "data": {
      "text/plain": [
       "<module 'timing' from 'timing.pyc'>"
      ]
     },
     "execution_count": 38,
     "metadata": {},
     "output_type": "execute_result"
    }
   ],
   "source": [
    "import incident\n",
    "reload(incident)\n",
    "from incident import Incident\n",
    "import timing\n",
    "reload(timing)"
   ]
  },
  {
   "cell_type": "code",
   "execution_count": 39,
   "metadata": {
    "collapsed": true
   },
   "outputs": [],
   "source": [
    "# TODO watch out for things like 11/24/17 where there were no incidents. there's a specific tag for those."
   ]
  },
  {
   "cell_type": "code",
   "execution_count": 40,
   "metadata": {
    "collapsed": false
   },
   "outputs": [],
   "source": [
    "# convert incidents to proper objects\n",
    "# 9 = proper length of report; anything less is malformed\n",
    "# TODO clean up — extract error checking into its own make_incident_objects() function\n",
    "incident_objects = [incident.Incident(i) for i in incidents_without_headers if len(i) == 9]"
   ]
  },
  {
   "cell_type": "code",
   "execution_count": 41,
   "metadata": {
    "collapsed": false
   },
   "outputs": [
    {
     "data": {
      "text/plain": [
       "{'city': 'CAMBRIDGE',\n",
       " 'disposition': 'CLOSED',\n",
       " 'incident_type': 'THEFT REPORT',\n",
       " 'location': 'MALKIN ATHLETIC CENTER',\n",
       " 'occurred_end': '2017-11-28 08:00:00',\n",
       " 'occurred_start': '2017-11-28 07:30:00',\n",
       " 'reported': '(datetime.datetime(2017, 11, 28, 8, 26), datetime.datetime(2017, 11, 28, 8, 26))',\n",
       " 'street_address': '39 HOLYOKE ST'}"
      ]
     },
     "execution_count": 41,
     "metadata": {},
     "output_type": "execute_result"
    }
   ],
   "source": [
    "incident_objects[0].to_dict_for_csv()"
   ]
  },
  {
   "cell_type": "code",
   "execution_count": 31,
   "metadata": {
    "collapsed": true
   },
   "outputs": [],
   "source": [
    "import csv\n",
    "import json\n",
    "\n",
    "def dump_csv(incidents):\n",
    "    \"\"\"\n",
    "    Dumps a list of Incident objects to CSV.\n",
    "    \"\"\"\n",
    "    with open('harvard_crime_incidents.csv', 'w') as csvfile:\n",
    "        fieldnames = Incident.CSV_FIELDS\n",
    "        writer = csv.DictWriter(csvfile, fieldnames=fieldnames)\n",
    "\n",
    "        writer.writeheader()\n",
    "\n",
    "        for incident in incidents:\n",
    "            writer.writerow(incident.to_dict_for_csv())"
   ]
  },
  {
   "cell_type": "code",
   "execution_count": 32,
   "metadata": {
    "collapsed": false
   },
   "outputs": [],
   "source": [
    "dump_csv(incident_objects)"
   ]
  },
  {
   "cell_type": "code",
   "execution_count": 33,
   "metadata": {
    "collapsed": true
   },
   "outputs": [],
   "source": [
    "curve = reports_plus_heads[2]"
   ]
  },
  {
   "cell_type": "code",
   "execution_count": null,
   "metadata": {
    "collapsed": true
   },
   "outputs": [],
   "source": []
  },
  {
   "cell_type": "code",
   "execution_count": null,
   "metadata": {
    "collapsed": true
   },
   "outputs": [],
   "source": []
  },
  {
   "cell_type": "code",
   "execution_count": null,
   "metadata": {
    "collapsed": true
   },
   "outputs": [],
   "source": []
  },
  {
   "cell_type": "code",
   "execution_count": null,
   "metadata": {
    "collapsed": true
   },
   "outputs": [],
   "source": []
  }
 ],
 "metadata": {
  "anaconda-cloud": {},
  "kernelspec": {
   "display_name": "Python [default]",
   "language": "python",
   "name": "python2"
  },
  "language_info": {
   "codemirror_mode": {
    "name": "ipython",
    "version": 2
   },
   "file_extension": ".py",
   "mimetype": "text/x-python",
   "name": "python",
   "nbconvert_exporter": "python",
   "pygments_lexer": "ipython2",
   "version": "2.7.12"
  }
 },
 "nbformat": 4,
 "nbformat_minor": 2
}
