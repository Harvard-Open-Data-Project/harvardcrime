{
 "cells": [
  {
   "cell_type": "code",
   "execution_count": 1,
   "metadata": {
    "collapsed": true
   },
   "outputs": [],
   "source": [
    "import pdfquery\n"
   ]
  },
  {
   "cell_type": "code",
   "execution_count": 7,
   "metadata": {
    "collapsed": true
   },
   "outputs": [],
   "source": [
    "pdf = pdfquery.PDFQuery(\"data/112817.pdf\")\n",
    "pdf.load()"
   ]
  },
  {
   "cell_type": "code",
   "execution_count": 8,
   "metadata": {
    "collapsed": false
   },
   "outputs": [],
   "source": [
    "# see what happens when we dump it\n",
    "filename = \"tmp.xml\"\n",
    "pdf.tree.write(filename, pretty_print=True)"
   ]
  },
  {
   "cell_type": "code",
   "execution_count": 13,
   "metadata": {
    "collapsed": false,
    "scrolled": true
   },
   "outputs": [
    {
     "data": {
      "text/plain": [
       "['Francis D. Riley ',\n",
       " 'Chief Of Police ',\n",
       " '',\n",
       " '1033 Massachusetts Avenue ',\n",
       " 'Sixth Floor ',\n",
       " 'Cambridge, Massachusetts 02138 ',\n",
       " 'Phone: 617-495-1215 ',\n",
       " 'Fax: 617-495-7782 ',\n",
       " 'President and Fellows of Harvard College ',\n",
       " '',\n",
       " '',\n",
       " '',\n",
       " '',\n",
       " '',\n",
       " '',\n",
       " '',\n",
       " '',\n",
       " '',\n",
       " '',\n",
       " 'Officer dispatched to a report of an unwanted guest sitting in on a class. Officer arrived, located individual and ',\n",
       " 'conducted a field interview. The individual was run for wants/warrants with negative results. The individual was then ',\n",
       " 'advised that they need to get permission to sit in on future classes. The individual was then sent on their way. ',\n",
       " '11/28/17 ',\n",
       " '3:14 PM ',\n",
       " '',\n",
       " '11/16/17 ',\n",
       " '10:08 AM ',\n",
       " '',\n",
       " '',\n",
       " '',\n",
       " '',\n",
       " '',\n",
       " '',\n",
       " '11/28/17 ',\n",
       " '8:26 AM ',\n",
       " '',\n",
       " '',\n",
       " '',\n",
       " '',\n",
       " '',\n",
       " '',\n",
       " '',\n",
       " '',\n",
       " '11/28/17 ',\n",
       " '9:08 AM ',\n",
       " '',\n",
       " '',\n",
       " '',\n",
       " '',\n",
       " '',\n",
       " '',\n",
       " '',\n",
       " '',\n",
       " '11/28/17 ',\n",
       " '10:17 AM ',\n",
       " '',\n",
       " '11/27/17 - 5:45 PM ',\n",
       " '11/28/17 - 9:00 AM ',\n",
       " '',\n",
       " '',\n",
       " '',\n",
       " '',\n",
       " '',\n",
       " '11/28/17 ',\n",
       " '12:07 PM ',\n",
       " '',\n",
       " '11/27/17 - 4:53 PM ',\n",
       " '11/28/17 - 11:02 AM ',\n",
       " '',\n",
       " '',\n",
       " '',\n",
       " '',\n",
       " '11/28/17 ',\n",
       " '1:48 PM ',\n",
       " '',\n",
       " '',\n",
       " '',\n",
       " '',\n",
       " '',\n",
       " '',\n",
       " '',\n",
       " '',\n",
       " '',\n",
       " '',\n",
       " '',\n",
       " 'Francis D. Riley ',\n",
       " 'Chief Of Police ',\n",
       " '',\n",
       " '1033 Massachusetts Avenue ',\n",
       " 'Sixth Floor ',\n",
       " 'Cambridge, Massachusetts 02138 ',\n",
       " 'Phone: 617-495-1215 ',\n",
       " 'Fax: 617-495-7782 ',\n",
       " 'President and Fellows of Harvard College ',\n",
       " '',\n",
       " '',\n",
       " '',\n",
       " '',\n",
       " '',\n",
       " '',\n",
       " 'Officers dispatched to a report of an individual wandering in and out of the library for the last 20 minutes. Officers ',\n",
       " 'arrived and report individual gone on arrival. ',\n",
       " 'Officer dispatched to a report of two individuals wandering around the lobby area of the building. Officer arrived and ',\n",
       " 'report individuals gone on arrival. ',\n",
       " '',\n",
       " '',\n",
       " '',\n",
       " '',\n",
       " '',\n",
       " '11/28/17 ',\n",
       " '4:20 PM ',\n",
       " '',\n",
       " '11/28/17 ',\n",
       " '4:20 PM ',\n",
       " 'EMERSON HALL ',\n",
       " '26 HARVARD YARD ',\n",
       " '',\n",
       " '',\n",
       " '',\n",
       " '11/28/17 ',\n",
       " '9:35 PM ',\n",
       " '',\n",
       " '11/28/17 ',\n",
       " '9:35 PM ',\n",
       " '',\n",
       " '',\n",
       " '',\n",
       " '',\n",
       " '']"
      ]
     },
     "execution_count": 13,
     "metadata": {},
     "output_type": "execute_result"
    }
   ],
   "source": [
    "[t.text for t in pdf.tree.findall(\".//LTTextLineHorizontal\")]"
   ]
  },
  {
   "cell_type": "code",
   "execution_count": 14,
   "metadata": {
    "collapsed": false,
    "scrolled": true
   },
   "outputs": [
    {
     "data": {
      "text/plain": [
       "['',\n",
       " 'Harvard University Police Department ',\n",
       " '',\n",
       " u'Copyright \\xa9 ',\n",
       " '2017 ',\n",
       " 'PUBLIC POLICE LOG ',\n",
       " '11/28/2017 ',\n",
       " 'Date & Time ',\n",
       " 'Date & Time ',\n",
       " 'Officer dispatched to take a report of a stolen U.S. currency valued at $620.00. ',\n",
       " 'Officer dispatched to take a report of a stolen blue Canada Goose jacket valued at $1,000.00. ',\n",
       " 'Officer dispatched to take a report of a stolen green Subaru Forrester valued at $12,000.00. ',\n",
       " 'Officer dispatched to take a report of threats. ',\n",
       " '',\n",
       " '',\n",
       " 'Officer dispatched to take a report of a stolen package containing an HP laptop valued at $821.00. ',\n",
       " '',\n",
       " '1 WESTERN AVE ',\n",
       " 'Reported ',\n",
       " 'Incident Type ',\n",
       " 'Occurred ',\n",
       " 'Location ',\n",
       " 'Disposition ',\n",
       " '',\n",
       " 'THEFT REPORT ',\n",
       " '11/28/17 ',\n",
       " '7:30 AM - 8:00 AM ',\n",
       " 'MALKIN ATHLETIC CENTER ',\n",
       " '39 HOLYOKE ST ',\n",
       " 'CAMBRIDGE ',\n",
       " 'CLOSED ',\n",
       " ' ',\n",
       " '',\n",
       " 'THEFT REPORT ',\n",
       " '11/21/17 ',\n",
       " '2:00 PM - 6:00 PM ',\n",
       " 'NEW DENTAL RESEARCH BUILDING ',\n",
       " '190 LONGWOOD AVE ',\n",
       " 'BOSTON ',\n",
       " 'CLOSED ',\n",
       " ' ',\n",
       " '',\n",
       " 'MOTOR VEHICLE THEFT ',\n",
       " '',\n",
       " 'FACULTY ROW CAR PORT ',\n",
       " '46 LINNAEAN ST ',\n",
       " 'CAMBRIDGE ',\n",
       " 'CLOSED ',\n",
       " ' ',\n",
       " '',\n",
       " 'THREAT(S) ',\n",
       " '',\n",
       " 'DUDLEY HOUSE - LEHMAN HALL ',\n",
       " '8 HARVARD YARD ',\n",
       " 'CAMBRIDGE ',\n",
       " 'OPEN ',\n",
       " '',\n",
       " 'FIELD INTERVIEW ',\n",
       " '11/28/17 ',\n",
       " '1:48 PM - 2:31 PM ',\n",
       " 'ALDRICH HALL ',\n",
       " '35 HARVARD WAY ',\n",
       " 'ALLSTON ',\n",
       " 'CLOSED ',\n",
       " ' ',\n",
       " 'THEFT REPORT ',\n",
       " 'CLOSED ',\n",
       " 'ALLSTON ',\n",
       " '',\n",
       " 'Harvard University Police Department ',\n",
       " '',\n",
       " u'Copyright \\xa9 ',\n",
       " '2017 ',\n",
       " 'PUBLIC POLICE LOG ',\n",
       " '11/28/2017 ',\n",
       " 'Date & Time ',\n",
       " 'Date & Time ',\n",
       " '',\n",
       " '',\n",
       " 'Reported ',\n",
       " 'Incident Type ',\n",
       " 'Occurred ',\n",
       " 'Location ',\n",
       " 'Disposition ',\n",
       " '',\n",
       " 'SUSPICIOUS ACTIVITY ',\n",
       " '',\n",
       " '',\n",
       " 'CAMBRIDGE ',\n",
       " 'CLOSED ',\n",
       " ' ',\n",
       " '',\n",
       " 'SUSPICIOUS ACTIVITY ',\n",
       " '',\n",
       " 'PEABODY TERRACE 09 ',\n",
       " '900 MEMORIAL DR ',\n",
       " 'CAMBRIDGE ',\n",
       " 'CLOSED ',\n",
       " ' ']"
      ]
     },
     "execution_count": 14,
     "metadata": {},
     "output_type": "execute_result"
    }
   ],
   "source": [
    "[t.text for t in pdf.tree.findall(\".//LTTextBoxHorizontal\")]"
   ]
  },
  {
   "cell_type": "code",
   "execution_count": 15,
   "metadata": {
    "collapsed": true
   },
   "outputs": [],
   "source": [
    "# so each individual report, as well as headers, is filed inside \n",
    "# its own <LTCurve>. The text fields are inside <LTTextLineHorizontal>s and <LTTextBoxHorizontal>s."
   ]
  },
  {
   "cell_type": "code",
   "execution_count": 17,
   "metadata": {
    "collapsed": false
   },
   "outputs": [],
   "source": [
    "reports_plus_heads = pdf.tree.findall(\".//LTCurve\")"
   ]
  },
  {
   "cell_type": "code",
   "execution_count": 18,
   "metadata": {
    "collapsed": true
   },
   "outputs": [],
   "source": [
    "report2 = reports_plus_heads[1]"
   ]
  },
  {
   "cell_type": "code",
   "execution_count": 19,
   "metadata": {
    "collapsed": false
   },
   "outputs": [
    {
     "data": {
      "text/plain": [
       "<Element LTCurve at 0x1083e5788>"
      ]
     },
     "execution_count": 19,
     "metadata": {},
     "output_type": "execute_result"
    }
   ],
   "source": [
    "report2"
   ]
  },
  {
   "cell_type": "code",
   "execution_count": 21,
   "metadata": {
    "collapsed": false
   },
   "outputs": [],
   "source": []
  },
  {
   "cell_type": "code",
   "execution_count": 27,
   "metadata": {
    "collapsed": false
   },
   "outputs": [],
   "source": []
  },
  {
   "cell_type": "code",
   "execution_count": 28,
   "metadata": {
    "collapsed": false
   },
   "outputs": [
    {
     "data": {
      "text/plain": [
       "['11/28/17',\n",
       " '8:26 AM',\n",
       " 'THEFT REPORT',\n",
       " '11/28/17',\n",
       " '7:30 AM - 8:00 AM',\n",
       " 'MALKIN ATHLETIC CENTER',\n",
       " '39 HOLYOKE ST',\n",
       " 'CAMBRIDGE',\n",
       " 'CLOSED']"
      ]
     },
     "execution_count": 28,
     "metadata": {},
     "output_type": "execute_result"
    }
   ],
   "source": [
    "cleaned_texts"
   ]
  },
  {
   "cell_type": "code",
   "execution_count": 32,
   "metadata": {
    "collapsed": false
   },
   "outputs": [],
   "source": [
    "def get_text_from_curve(ltcurve):\n",
    "    textual_elements = (ltcurve.findall(\".//LTTextLineHorizontal\") + \n",
    "                        ltcurve.findall(\".//LTTextBoxHorizontal\"))\n",
    "    texts = [t.text.strip() for t in textual_elements]\n",
    "    \n",
    "    # remove empty lines\n",
    "    cleaned_texts = [t for t in texts if t != '']\n",
    "    \n",
    "    # PROBLEM with this approach: in rare cases some text from this falls way\n",
    "    # outside the ltcurve. Might it still be within the bounding box though?\n",
    "    \n",
    "    # UPDATE: try gathering all data\n",
    "    # for 11/28 consider these bboxes\n",
    "    #\n",
    "    # 10:08am [247.08, 80.197, 275.587, 90.18]\n",
    "    # hp laptop [6.0, 65.784, 737.868, 82.318]\n",
    "    # bounding box [3.36, 77.7, 754.86, 98.64]\n",
    "    \n",
    "    return cleaned_texts"
   ]
  },
  {
   "cell_type": "code",
   "execution_count": 35,
   "metadata": {
    "collapsed": false
   },
   "outputs": [],
   "source": [
    "HEADER_ROW_TEXT = ['Reported', 'Incident Type', 'Occurred', 'Location', 'Disposition']"
   ]
  },
  {
   "cell_type": "code",
   "execution_count": 36,
   "metadata": {
    "collapsed": true
   },
   "outputs": [],
   "source": [
    "incidents = [get_text_from_curve(lt) for lt in reports_plus_heads]\n",
    "\n",
    "# remove headers\n",
    "incidents_without_headers = [i for i in incidents if i != HEADER_ROW_TEXT]"
   ]
  },
  {
   "cell_type": "code",
   "execution_count": 37,
   "metadata": {
    "collapsed": false
   },
   "outputs": [
    {
     "data": {
      "text/plain": [
       "[['11/28/17',\n",
       "  '8:26 AM',\n",
       "  'THEFT REPORT',\n",
       "  '11/28/17',\n",
       "  '7:30 AM - 8:00 AM',\n",
       "  'MALKIN ATHLETIC CENTER',\n",
       "  '39 HOLYOKE ST',\n",
       "  'CAMBRIDGE',\n",
       "  'CLOSED'],\n",
       " ['11/28/17',\n",
       "  '9:08 AM',\n",
       "  'THEFT REPORT',\n",
       "  '11/21/17',\n",
       "  '2:00 PM - 6:00 PM',\n",
       "  'NEW DENTAL RESEARCH BUILDING',\n",
       "  '190 LONGWOOD AVE',\n",
       "  'BOSTON',\n",
       "  'CLOSED'],\n",
       " ['11/28/17',\n",
       "  '10:17 AM',\n",
       "  '11/27/17 - 5:45 PM',\n",
       "  '11/28/17 - 9:00 AM',\n",
       "  'MOTOR VEHICLE THEFT',\n",
       "  'FACULTY ROW CAR PORT',\n",
       "  '46 LINNAEAN ST',\n",
       "  'CAMBRIDGE',\n",
       "  'CLOSED'],\n",
       " ['11/28/17',\n",
       "  '12:07 PM',\n",
       "  '11/27/17 - 4:53 PM',\n",
       "  '11/28/17 - 11:02 AM',\n",
       "  'THREAT(S)',\n",
       "  'DUDLEY HOUSE - LEHMAN HALL',\n",
       "  '8 HARVARD YARD',\n",
       "  'CAMBRIDGE',\n",
       "  'OPEN'],\n",
       " ['11/28/17',\n",
       "  '1:48 PM',\n",
       "  'FIELD INTERVIEW',\n",
       "  '11/28/17',\n",
       "  '1:48 PM - 2:31 PM',\n",
       "  'ALDRICH HALL',\n",
       "  '35 HARVARD WAY',\n",
       "  'ALLSTON',\n",
       "  'CLOSED'],\n",
       " ['THEFT REPORT', 'CLOSED', 'ALLSTON'],\n",
       " ['11/28/17',\n",
       "  '4:20 PM',\n",
       "  '11/28/17',\n",
       "  '4:20 PM',\n",
       "  'EMERSON HALL',\n",
       "  '26 HARVARD YARD',\n",
       "  'SUSPICIOUS ACTIVITY',\n",
       "  'CAMBRIDGE',\n",
       "  'CLOSED'],\n",
       " ['11/28/17',\n",
       "  '9:35 PM',\n",
       "  '11/28/17',\n",
       "  '9:35 PM',\n",
       "  'SUSPICIOUS ACTIVITY',\n",
       "  'PEABODY TERRACE 09',\n",
       "  '900 MEMORIAL DR',\n",
       "  'CAMBRIDGE',\n",
       "  'CLOSED']]"
      ]
     },
     "execution_count": 37,
     "metadata": {},
     "output_type": "execute_result"
    }
   ],
   "source": [
    "incidents_without_headers"
   ]
  },
  {
   "cell_type": "code",
   "execution_count": 39,
   "metadata": {
    "collapsed": true
   },
   "outputs": [],
   "source": [
    "class Incident(object):\n",
    "    \n",
    "    def __init__(self, data_row):\n",
    "        # `data_row` is something like:\n",
    "        #\n",
    "        #  ['11/28/17',\n",
    "        #   '1:48 PM',\n",
    "        #   'FIELD INTERVIEW',\n",
    "        #   '11/28/17',\n",
    "        #   '1:48 PM - 2:31 PM',\n",
    "        #   'ALDRICH HALL',\n",
    "        #   '35 HARVARD WAY',\n",
    "        #   'ALLSTON',\n",
    "        #   'CLOSED'],\n",
    "        #\n",
    "        # The rows correspond to:\n",
    "        # 1. Date Reported\n",
    "        # 2. Time Reported\n",
    "        # 3. Incident Type\n",
    "        # 4. Date Occurred\n",
    "        # 5. Time Occurred\n",
    "        # 6. Location\n",
    "        # 7. Street Address\n",
    "        # 8. City (in Massachusetts)\n",
    "        # 9. \"Disposition Type\", per HUPD (whether the case is open or closed)\n",
    "        \n",
    "        self.date_reported = data_row[0]\n",
    "        self.time_reported = data_row[1]\n",
    "        self.incident_type = data_row[2]\n",
    "        self.date_occurred = data_row[3]\n",
    "        self.time_occurred = data_row[4]\n",
    "        self.location = data_row[5]\n",
    "        self.street_address = data_row[6]\n",
    "        self.city = data_row[7]\n",
    "        self.disposition = data_row[8]\n",
    "        \n",
    "        # TODO: convert date/time reported into datetime objects"
   ]
  },
  {
   "cell_type": "code",
   "execution_count": 40,
   "metadata": {
    "collapsed": true
   },
   "outputs": [],
   "source": [
    "# TODO watch out for things like 11/24/17 where there were no incidents. there's a specific tag for those."
   ]
  },
  {
   "cell_type": "code",
   "execution_count": 41,
   "metadata": {
    "collapsed": true
   },
   "outputs": [],
   "source": []
  },
  {
   "cell_type": "code",
   "execution_count": 47,
   "metadata": {
    "collapsed": false
   },
   "outputs": [],
   "source": [
    "def element_within_box(element, box_coords):\n",
    "    # box_coords must be [x0, y0, x1, y1]\n",
    "    \n",
    "    # get element coords\n",
    "\n",
    "    print element_coords\n",
    "    print box_coords"
   ]
  },
  {
   "cell_type": "code",
   "execution_count": 48,
   "metadata": {
    "collapsed": false
   },
   "outputs": [
    {
     "name": "stdout",
     "output_type": "stream",
     "text": [
      "[4.5, 545.197, 51.496, 555.18]\n",
      "[3.36, 77.7, 754.86, 98.64]\n"
     ]
    }
   ],
   "source": [
    "element_within_box(textual_elements[0], box)"
   ]
  },
  {
   "cell_type": "code",
   "execution_count": 85,
   "metadata": {
    "collapsed": false
   },
   "outputs": [],
   "source": [
    "class BoundingBox(object):\n",
    "    \n",
    "    def __init__(self, x0, y0, x1, y1):\n",
    "        self.x0 = x0\n",
    "        self.y0 = y0\n",
    "        self.x1 = x1\n",
    "        self.y1 = y1\n",
    "        \n",
    "    def is_inside_box(self, other_box):\n",
    "        \"\"\"\n",
    "        Returns true if this box is entirely contained within the other box.\n",
    "        \"\"\"\n",
    "        FUZZ = 5\n",
    "        return (self.x0 >= other_box.x0 - FUZZ and\n",
    "                self.x1 <= other_box.x1 + FUZZ and\n",
    "                self.y0 >= other_box.y0 - FUZZ and\n",
    "                self.y1 <= other_box.y1 + FUZZ)\n",
    "    \n",
    "    def __str__(self):\n",
    "        return \"({},{}) to ({},{})\".format(self.x0, self.y0, self.x1, self.y1)\n",
    "    \n",
    "        "
   ]
  },
  {
   "cell_type": "code",
   "execution_count": 101,
   "metadata": {
    "collapsed": false
   },
   "outputs": [],
   "source": [
    "# find everything within this box\n",
    "\n",
    "\n",
    "# get all textual elements\n",
    "textual_elements = (pdf.tree.findall(\"//LTTextLineHorizontal\") + \n",
    "                    pdf.tree.findall(\".//LTTextBoxHorizontal\"))"
   ]
  },
  {
   "cell_type": "code",
   "execution_count": 87,
   "metadata": {
    "collapsed": true
   },
   "outputs": [],
   "source": [
    "test_elt = textual_elements[0]"
   ]
  },
  {
   "cell_type": "code",
   "execution_count": 88,
   "metadata": {
    "collapsed": true
   },
   "outputs": [],
   "source": [
    "def box_of_element(element):\n",
    "    coordinate_names = [\"x0\",\"y0\",\"x1\",\"y1\"]\n",
    "    coords = [float(element.get(z)) for z in coordinate_names]\n",
    "    \n",
    "    return BoundingBox(coords[0], coords[1], coords[2], coords[3])"
   ]
  },
  {
   "cell_type": "code",
   "execution_count": 89,
   "metadata": {
    "collapsed": false
   },
   "outputs": [
    {
     "data": {
      "text/plain": [
       "'(4.5,545.197) to (51.496,555.18)'"
      ]
     },
     "execution_count": 89,
     "metadata": {},
     "output_type": "execute_result"
    }
   ],
   "source": [
    "str(box_of_element(test_elt))"
   ]
  },
  {
   "cell_type": "code",
   "execution_count": null,
   "metadata": {
    "collapsed": true
   },
   "outputs": [],
   "source": []
  },
  {
   "cell_type": "code",
   "execution_count": 90,
   "metadata": {
    "collapsed": true
   },
   "outputs": [],
   "source": [
    "# whats in here\n",
    "test_box = BoundingBox(3.36, 77.7, 754.86, 98.64)"
   ]
  },
  {
   "cell_type": "code",
   "execution_count": 91,
   "metadata": {
    "collapsed": false
   },
   "outputs": [],
   "source": [
    "# get boxes for all elts\n",
    "\n",
    "def is_in_box(element):\n",
    "    box = box_of_element(element)\n",
    "    return box.is_inside_box(test_box)"
   ]
  },
  {
   "cell_type": "code",
   "execution_count": 92,
   "metadata": {
    "collapsed": false
   },
   "outputs": [],
   "source": [
    "valid_elts = [e for e in textual_elements if is_in_box(e)]"
   ]
  },
  {
   "cell_type": "code",
   "execution_count": 93,
   "metadata": {
    "collapsed": false
   },
   "outputs": [
    {
     "data": {
      "text/plain": [
       "['11/28/17 ',\n",
       " '3:14 PM ',\n",
       " '11/16/17 ',\n",
       " '10:08 AM ',\n",
       " '',\n",
       " '',\n",
       " '',\n",
       " '',\n",
       " '',\n",
       " '',\n",
       " '1 WESTERN AVE ',\n",
       " 'THEFT REPORT ',\n",
       " 'CLOSED ',\n",
       " 'ALLSTON ']"
      ]
     },
     "execution_count": 93,
     "metadata": {},
     "output_type": "execute_result"
    }
   ],
   "source": [
    "[v.text for v in valid_elts]"
   ]
  },
  {
   "cell_type": "code",
   "execution_count": null,
   "metadata": {
    "collapsed": true
   },
   "outputs": [],
   "source": []
  },
  {
   "cell_type": "code",
   "execution_count": null,
   "metadata": {
    "collapsed": true
   },
   "outputs": [],
   "source": [
    "\"\"\"\n",
    "\n",
    "Summary of where we are as of 11/30/17\n",
    "\n",
    "Through the \"text-extraction\" approach, we get 95% of the data. \n",
    "Sometimes, however, some text is put in the wrong order in the\n",
    "document so we miss it. See the 10:08 AM report on 11/28/17.\n",
    "\n",
    "The approach of \"finding everything within the box\" is quite\n",
    "messy and difficult. But it might be able to get all the info.\n",
    "The main problem is that I can't figure out how to properly\n",
    "interleave the TextLines and TextBoxes. It's close — might need\n",
    "to extract the TextLines within the TextBoxes. But it's such a messy operation\n",
    "that I'd rather go with the text-extraction approach for the MVP.\n",
    "\n",
    "\"\"\""
   ]
  }
 ],
 "metadata": {
  "anaconda-cloud": {},
  "kernelspec": {
   "display_name": "Python [default]",
   "language": "python",
   "name": "python2"
  },
  "language_info": {
   "codemirror_mode": {
    "name": "ipython",
    "version": 2
   },
   "file_extension": ".py",
   "mimetype": "text/x-python",
   "name": "python",
   "nbconvert_exporter": "python",
   "pygments_lexer": "ipython2",
   "version": "2.7.12"
  }
 },
 "nbformat": 4,
 "nbformat_minor": 2
}
